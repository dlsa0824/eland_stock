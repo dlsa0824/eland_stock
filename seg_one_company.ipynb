{
 "cells": [
  {
   "cell_type": "markdown",
   "metadata": {},
   "source": [
    "## 把特定公司文章"
   ]
  },
  {
   "cell_type": "code",
   "execution_count": 21,
   "metadata": {},
   "outputs": [],
   "source": [
    "import jieba\n",
    "import jieba.analyse\n",
    "import csv\n",
    "import pandas as pd\n",
    "jieba.set_dictionary('bda2019_dataset/dict.idkrsi.txt')\n",
    "import re"
   ]
  },
  {
   "cell_type": "code",
   "execution_count": 22,
   "metadata": {},
   "outputs": [],
   "source": [
    "company='聯發科'"
   ]
  },
  {
   "cell_type": "code",
   "execution_count": 23,
   "metadata": {},
   "outputs": [],
   "source": [
    "stopwords=list()\n",
    "with open('bda2019_dataset/stopword.txt', 'r',encoding='utf-8') as data:\n",
    "    for stopword in data:\n",
    "        stopwords.append(stopword.strip('\\n'))"
   ]
  },
  {
   "cell_type": "code",
   "execution_count": 24,
   "metadata": {},
   "outputs": [],
   "source": [
    "#找聯發科的文章\n",
    "news=pd.read_csv(\"bda2019_dataset/news2.csv\",encoding=\"utf-8\")\n",
    "# forum=pd.read_csv(\"bda2019_dataset/forum2.csv\",encoding='utf-8')\n",
    "# bbs=pd.read_csv(\"bda2019_dataset/bbs2.csv\",encoding='utf-8')\n",
    "# news=news.drop(columns=['page_url'])\n",
    "# forum=forum.drop(columns=['comment_count','page_url'])\n",
    "# bbs=bbs.drop(columns=['comment_count','page_url'])\n",
    "# news['content'].fillna(value='哈哈', inplace=True)  #把空白補成特定文字\n",
    "# forum['content'].fillna(value='哈哈', inplace=True)\n",
    "# bbs['content'].fillna(value='哈哈', inplace=True)\n",
    "# tnews = pd.concat([news,forum,bbs],axis=0, ignore_index=True)\n",
    "news['content'].fillna(value='哈哈', inplace=True)\n",
    "tnews=news[news['content'].str.contains(company)]  #搜尋特定文字的文章，有的話保留\n",
    "tnews=tnews.reset_index(drop=True)"
   ]
  },
  {
   "cell_type": "code",
   "execution_count": 25,
   "metadata": {},
   "outputs": [
    {
     "data": {
      "text/plain": [
       "5179"
      ]
     },
     "execution_count": 25,
     "metadata": {},
     "output_type": "execute_result"
    }
   ],
   "source": [
    "len(tnews)"
   ]
  },
  {
   "cell_type": "code",
   "execution_count": 26,
   "metadata": {},
   "outputs": [],
   "source": [
    "#將文章串起來\n",
    "content=\"\"\n",
    "contentcount=0\n",
    "for row in tnews.index:\n",
    "    try:\n",
    "        tempcontent=str(tnews.loc[row,'content'])\n",
    "        content=content+tempcontent\n",
    "        contentcount+=1\n",
    "    except:\n",
    "        continue"
   ]
  },
  {
   "cell_type": "code",
   "execution_count": 27,
   "metadata": {},
   "outputs": [
    {
     "data": {
      "text/plain": [
       "5179"
      ]
     },
     "execution_count": 27,
     "metadata": {},
     "output_type": "execute_result"
    }
   ],
   "source": [
    "contentcount"
   ]
  },
  {
   "cell_type": "code",
   "execution_count": 28,
   "metadata": {},
   "outputs": [],
   "source": [
    "#把英文字母和數字刪掉\n",
    "content=re.sub('[a-zA-Z0-9\\W]', '', content)"
   ]
  },
  {
   "cell_type": "code",
   "execution_count": 29,
   "metadata": {},
   "outputs": [
    {
     "name": "stderr",
     "output_type": "stream",
     "text": [
      "Building prefix dict from /home/daniel/code/finance/bda2019_dataset/dict.idkrsi.txt ...\n",
      "Loading model from cache /tmp/jieba.u2e58f25a25b46fee917713c08b4e0329.cache\n",
      "Loading model cost 0.344 seconds.\n",
      "Prefix dict has been built succesfully.\n"
     ]
    }
   ],
   "source": [
    "templist=jieba.analyse.extract_tags(content.replace('\\n','').replace(',',' '), topK=3000, withWeight=False)"
   ]
  },
  {
   "cell_type": "code",
   "execution_count": 30,
   "metadata": {},
   "outputs": [],
   "source": [
    "seglist=list(templist)"
   ]
  },
  {
   "cell_type": "code",
   "execution_count": 31,
   "metadata": {},
   "outputs": [],
   "source": [
    "#把stopword的東西去掉\n",
    "newseglist = list(filter(lambda a: a not in stopwords and a != '\\n', seglist))"
   ]
  },
  {
   "cell_type": "code",
   "execution_count": 32,
   "metadata": {},
   "outputs": [
    {
     "data": {
      "text/plain": [
       "19790"
      ]
     },
     "execution_count": 32,
     "metadata": {},
     "output_type": "execute_result"
    }
   ],
   "source": [
    "len(newseglist)"
   ]
  },
  {
   "cell_type": "code",
   "execution_count": 33,
   "metadata": {},
   "outputs": [],
   "source": [
    "#匯出txt檔\n",
    "for word in newseglist:\n",
    "    print(str(word) ,file=open(\"companykeyword3000.txt\", \"a\"))  # print存成txt"
   ]
  },
  {
   "cell_type": "code",
   "execution_count": null,
   "metadata": {},
   "outputs": [],
   "source": []
  }
 ],
 "metadata": {
  "kernelspec": {
   "display_name": "Python 3",
   "language": "python",
   "name": "python3"
  },
  "language_info": {
   "codemirror_mode": {
    "name": "ipython",
    "version": 3
   },
   "file_extension": ".py",
   "mimetype": "text/x-python",
   "name": "python",
   "nbconvert_exporter": "python",
   "pygments_lexer": "ipython3",
   "version": "3.7.5"
  }
 },
 "nbformat": 4,
 "nbformat_minor": 4
}
