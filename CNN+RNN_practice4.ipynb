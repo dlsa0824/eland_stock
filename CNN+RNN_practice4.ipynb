{
 "cells": [
  {
   "cell_type": "markdown",
   "metadata": {},
   "source": [
    "## 對文章標題做encoding，把每篇文章弄成同維度，可以做CNN的前處理"
   ]
  },
  {
   "cell_type": "markdown",
   "metadata": {},
   "source": [
    "## 後面model是做conv1d+lstm"
   ]
  },
  {
   "cell_type": "code",
   "execution_count": 44,
   "metadata": {},
   "outputs": [],
   "source": [
    "import jieba\n",
    "import jieba.analyse\n",
    "import csv\n",
    "import numpy as np\n",
    "import pandas as pd\n",
    "from datetime import datetime,timedelta\n",
    "import re\n",
    "from tqdm import tqdm"
   ]
  },
  {
   "cell_type": "code",
   "execution_count": null,
   "metadata": {},
   "outputs": [],
   "source": [
    "company = '台積電'"
   ]
  },
  {
   "cell_type": "markdown",
   "metadata": {},
   "source": [
    "## 對股票價格處理"
   ]
  },
  {
   "cell_type": "code",
   "execution_count": null,
   "metadata": {},
   "outputs": [],
   "source": [
    "stock2018 = pd.read_csv(\"bda2019_dataset/TWSE2018.csv\", encoding=\"utf-8\")\n",
    "stock2017 = pd.read_csv(\"bda2019_dataset/TWSE2017.csv\", encoding=\"utf-8\")\n",
    "stock2016 = pd.read_csv(\"bda2019_dataset/TWSE2016.csv\", encoding=\"utf-8\")\n",
    "df_stock = pd.concat([stock2018,stock2017,stock2016],axis=0, ignore_index=True)\n",
    "stock_tgg = df_stock[df_stock['證券代碼'].str.contains(company)]\n",
    "stock_tgg = stock_tgg.reset_index(drop=True)\n",
    "stock_tgg['年月日']=pd.to_datetime(stock_tgg['年月日'])\n",
    "stock_tgg['收盤價(元)']=stock_tgg['收盤價(元)'].astype(str).str.replace(',','').astype('float64')"
   ]
  },
  {
   "cell_type": "code",
   "execution_count": null,
   "metadata": {},
   "outputs": [],
   "source": [
    "stock_tgg['highpriceshift'] = stock_tgg['收盤價(元)'].shift(periods=1)\n",
    "stock_tgg['div']=stock_tgg['highpriceshift']-stock_tgg['收盤價(元)']\n",
    "stock_tgg = stock_tgg[1:]\n",
    "stock_tgg = stock_tgg.reset_index(drop=True)\n",
    "stock_tgg['label'] = '平'\n",
    "stock_tgg.loc[stock_tgg['div']>0.00, 'label'] = '漲'\n",
    "stock_tgg.loc[stock_tgg['div']<0.00, 'label'] = '跌'\n",
    "stock_tgg.head()"
   ]
  },
  {
   "cell_type": "code",
   "execution_count": null,
   "metadata": {},
   "outputs": [],
   "source": [
    "tgg_high = stock_tgg[stock_tgg['label'].str.contains('漲')]\n",
    "tgg_low = stock_tgg[stock_tgg['label'].str.contains('跌')]\n",
    "tgg_even = stock_tgg[stock_tgg['label'].str.contains('平')]\n",
    "print(\"漲的天數: %d\" % len(tgg_high))\n",
    "print(\"跌的天數: %d\" % len(tgg_low))\n",
    "print(\"平的天數: %d\" % len(tgg_even))\n",
    "print(\"全部的天數: %d\" % len(stock_tgg))"
   ]
  },
  {
   "cell_type": "markdown",
   "metadata": {},
   "source": [
    "## 對文章處理"
   ]
  },
  {
   "cell_type": "code",
   "execution_count": 45,
   "metadata": {},
   "outputs": [
    {
     "name": "stdout",
     "output_type": "stream",
     "text": [
      "台積電文章: 18423\n"
     ]
    }
   ],
   "source": [
    "news=pd.read_csv(\"bda2019_dataset/news2.csv\",encoding=\"utf-8\")\n",
    "news['title'].fillna(value='N/A', inplace=True)\n",
    "news['content'].fillna(value='N/A', inplace=True)\n",
    "# tnews=news[news['title'].str.contains(company)]\n",
    "tnews=news[news['content'].str.contains('台積電|台積|張忠謀')]\n",
    "tnews=tnews.reset_index(drop=True)\n",
    "tnews['post_time']=pd.to_datetime(tnews['post_time'])\n",
    "print(\"台積電文章: %d\" % len(tnews))"
   ]
  },
  {
   "cell_type": "code",
   "execution_count": null,
   "metadata": {},
   "outputs": [],
   "source": [
    "for day in tqdm(range(len(tnews))):\n",
    "    targetdate=tnews.loc[day,'post_time'].date()\n",
    "    for day1 in range(len(stock_tgg)):\n",
    "        try:\n",
    "            if targetdate==stock_tgg.loc[day1,'年月日'].date():\n",
    "                tnews.loc[day,'label']=stock_tgg.loc[day1,'label']\n",
    "            elif (targetdate+timedelta(1))==stock_tgg.loc[day1,'年月日'].date():\n",
    "                tnews.loc[day,'label']=stock_tgg.loc[day1+1,'label']\n",
    "            elif (targetdate+timedelta(2))==stock_tgg.loc[day1,'年月日'].date():\n",
    "                tnews.loc[day,'label']=stock_tgg.loc[day1+1,'label']\n",
    "            elif (targetdate+timedelta(3))==stock_tgg.loc[day1,'年月日'].date():\n",
    "                tnews.loc[day,'label']=stock_tgg.loc[day1+1,'label']\n",
    "            elif (targetdate+timedelta(4))==stock_tgg.loc[day1,'年月日'].date():\n",
    "                tnews.loc[day,'label']=stock_tgg.loc[day1+1,'label']\n",
    "        except:\n",
    "            continue"
   ]
  },
  {
   "cell_type": "code",
   "execution_count": null,
   "metadata": {},
   "outputs": [],
   "source": [
    "tnews['label'].fillna(value='N/A', inplace=True)\n",
    "tnews1=tnews[tnews['label'].str.contains('漲')]\n",
    "tnews2=tnews[tnews['label'].str.contains('跌')]\n",
    "tnews3=tnews[tnews['label'].str.contains('平')]\n",
    "tnews4=tnews[tnews['label'].str.contains('N/A')]\n",
    "print(\"漲的文章:\", len(tnews1))\n",
    "print(\"跌的文章:\", len(tnews2))\n",
    "print(\"平的文章:\", len(tnews3))\n",
    "print(\"N/A的文章:\", len(tnews4))\n",
    "print(\"全部的文章:\", len(tnews))"
   ]
  },
  {
   "cell_type": "markdown",
   "metadata": {},
   "source": [
    "## 讀取整理好的資料"
   ]
  },
  {
   "cell_type": "code",
   "execution_count": 46,
   "metadata": {},
   "outputs": [
    {
     "data": {
      "text/html": [
       "<div>\n",
       "<style scoped>\n",
       "    .dataframe tbody tr th:only-of-type {\n",
       "        vertical-align: middle;\n",
       "    }\n",
       "\n",
       "    .dataframe tbody tr th {\n",
       "        vertical-align: top;\n",
       "    }\n",
       "\n",
       "    .dataframe thead th {\n",
       "        text-align: right;\n",
       "    }\n",
       "</style>\n",
       "<table border=\"1\" class=\"dataframe\">\n",
       "  <thead>\n",
       "    <tr style=\"text-align: right;\">\n",
       "      <th></th>\n",
       "      <th>post_time</th>\n",
       "      <th>title</th>\n",
       "      <th>content</th>\n",
       "      <th>label</th>\n",
       "    </tr>\n",
       "  </thead>\n",
       "  <tbody>\n",
       "    <tr>\n",
       "      <td>0</td>\n",
       "      <td>2016-01-01 09:05:00</td>\n",
       "      <td>工商頭條~4大基金封關加碼30億 2016年台股漲像NIKE</td>\n",
       "      <td>2015年台股昨（31）日封關，四大基金在尾盤大舉加碼買進台積電、國泰金等權值股，總計投入約...</td>\n",
       "      <td>跌</td>\n",
       "    </tr>\n",
       "    <tr>\n",
       "      <td>1</td>\n",
       "      <td>2016-01-01 09:27:00</td>\n",
       "      <td>《各報要聞》2016年台股漲像NIKE</td>\n",
       "      <td>2015年台股昨（31）日封關，四大基金在尾盤大舉加碼買進台積電、國泰金等權值股，總計投入約...</td>\n",
       "      <td>跌</td>\n",
       "    </tr>\n",
       "    <tr>\n",
       "      <td>2</td>\n",
       "      <td>2016-01-01 11:46:00</td>\n",
       "      <td>台積電ADR31日下跌0.13美元跌幅0.57%折台股150.45元</td>\n",
       "      <td>(中央社台北2016年 1月 1日電)台積電在NYSE掛牌 ADR以 22.75美元作收，下...</td>\n",
       "      <td>跌</td>\n",
       "    </tr>\n",
       "    <tr>\n",
       "      <td>3</td>\n",
       "      <td>2016-01-02 11:12:00</td>\n",
       "      <td>iPhone新4吋 傳7大特色先睹為快</td>\n",
       "      <td>（中央社記者鍾榮峰台北2016年1月2日電）蘋果(Apple)新4吋iPhone萬眾矚目，各...</td>\n",
       "      <td>跌</td>\n",
       "    </tr>\n",
       "    <tr>\n",
       "      <td>4</td>\n",
       "      <td>2016-01-03 08:59:00</td>\n",
       "      <td>《各報要聞》外資歸隊，台股帶量拚季線</td>\n",
       "      <td>台股上周封關日集中及櫃買兩市場同步收紅，本周為105年元月首周，市場聚焦新掛牌股、外資歸隊、...</td>\n",
       "      <td>跌</td>\n",
       "    </tr>\n",
       "  </tbody>\n",
       "</table>\n",
       "</div>"
      ],
      "text/plain": [
       "            post_time                               title  \\\n",
       "0 2016-01-01 09:05:00      工商頭條~4大基金封關加碼30億 2016年台股漲像NIKE   \n",
       "1 2016-01-01 09:27:00                 《各報要聞》2016年台股漲像NIKE   \n",
       "2 2016-01-01 11:46:00  台積電ADR31日下跌0.13美元跌幅0.57%折台股150.45元   \n",
       "3 2016-01-02 11:12:00                 iPhone新4吋 傳7大特色先睹為快   \n",
       "4 2016-01-03 08:59:00                  《各報要聞》外資歸隊，台股帶量拚季線   \n",
       "\n",
       "                                             content label  \n",
       "0  2015年台股昨（31）日封關，四大基金在尾盤大舉加碼買進台積電、國泰金等權值股，總計投入約...     跌  \n",
       "1  2015年台股昨（31）日封關，四大基金在尾盤大舉加碼買進台積電、國泰金等權值股，總計投入約...     跌  \n",
       "2  (中央社台北2016年 1月 1日電)台積電在NYSE掛牌 ADR以 22.75美元作收，下...     跌  \n",
       "3  （中央社記者鍾榮峰台北2016年1月2日電）蘋果(Apple)新4吋iPhone萬眾矚目，各...     跌  \n",
       "4  台股上周封關日集中及櫃買兩市場同步收紅，本周為105年元月首周，市場聚焦新掛牌股、外資歸隊、...     跌  "
      ]
     },
     "execution_count": 46,
     "metadata": {},
     "output_type": "execute_result"
    }
   ],
   "source": [
    "tnews = pd.read_csv(\"bda2019_dataset/stock_content_tgg.csv\",encoding='utf-8')\n",
    "tnews['post_time']=pd.to_datetime(tnews['post_time'])\n",
    "tnews = tnews.drop(columns=['Unnamed: 0','id','p_type','s_name','s_area_name','author','page_url'])\n",
    "tnews.head()"
   ]
  },
  {
   "cell_type": "markdown",
   "metadata": {},
   "source": [
    "## 斷詞前處理"
   ]
  },
  {
   "cell_type": "code",
   "execution_count": 47,
   "metadata": {},
   "outputs": [],
   "source": [
    "stopwords = list()\n",
    "with open('bda2019_dataset/stopword.txt', 'r', encoding='utf-8') as data:\n",
    "    for stopword in data:\n",
    "        stopwords.append(stopword.strip('\\n'))"
   ]
  },
  {
   "cell_type": "code",
   "execution_count": 48,
   "metadata": {},
   "outputs": [
    {
     "data": {
      "text/plain": [
       "16724"
      ]
     },
     "execution_count": 48,
     "metadata": {},
     "output_type": "execute_result"
    }
   ],
   "source": [
    "tnews['label'].fillna(value='N/A', inplace=True)\n",
    "tnews=tnews[tnews['label'].str.contains('漲|跌')]\n",
    "tnews=tnews.reset_index(drop=True)\n",
    "len(tnews)"
   ]
  },
  {
   "cell_type": "code",
   "execution_count": 49,
   "metadata": {},
   "outputs": [],
   "source": [
    "tnews.loc[tnews['label']=='漲', 'num_label'] = 1\n",
    "tnews.loc[tnews['label']=='跌', 'num_label'] = 0"
   ]
  },
  {
   "cell_type": "code",
   "execution_count": 50,
   "metadata": {},
   "outputs": [
    {
     "name": "stderr",
     "output_type": "stream",
     "text": [
      "Building prefix dict from /home/daniel/code/finance/bda2019_dataset/dict.idkrsi.txt ...\n",
      "Loading model from cache /tmp/jieba.u2e58f25a25b46fee917713c08b4e0329.cache\n",
      "Loading model cost 0.355 seconds.\n",
      "Prefix dict has been built succesfully.\n"
     ]
    },
    {
     "data": {
      "text/html": [
       "<div>\n",
       "<style scoped>\n",
       "    .dataframe tbody tr th:only-of-type {\n",
       "        vertical-align: middle;\n",
       "    }\n",
       "\n",
       "    .dataframe tbody tr th {\n",
       "        vertical-align: top;\n",
       "    }\n",
       "\n",
       "    .dataframe thead th {\n",
       "        text-align: right;\n",
       "    }\n",
       "</style>\n",
       "<table border=\"1\" class=\"dataframe\">\n",
       "  <thead>\n",
       "    <tr style=\"text-align: right;\">\n",
       "      <th></th>\n",
       "      <th>post_time</th>\n",
       "      <th>title</th>\n",
       "      <th>content</th>\n",
       "      <th>label</th>\n",
       "      <th>num_label</th>\n",
       "      <th>cutcontent</th>\n",
       "    </tr>\n",
       "  </thead>\n",
       "  <tbody>\n",
       "    <tr>\n",
       "      <td>0</td>\n",
       "      <td>2016-01-01 09:05:00</td>\n",
       "      <td>工商頭條~4大基金封關加碼30億 2016年台股漲像NIKE</td>\n",
       "      <td>2015年台股昨（31）日封關，四大基金在尾盤大舉加碼買進台積電、國泰金等權值股，總計投入約...</td>\n",
       "      <td>跌</td>\n",
       "      <td>0.0</td>\n",
       "      <td>工商 頭條 基金 封關 加碼 億年 台股 漲像</td>\n",
       "    </tr>\n",
       "    <tr>\n",
       "      <td>1</td>\n",
       "      <td>2016-01-01 09:27:00</td>\n",
       "      <td>《各報要聞》2016年台股漲像NIKE</td>\n",
       "      <td>2015年台股昨（31）日封關，四大基金在尾盤大舉加碼買進台積電、國泰金等權值股，總計投入約...</td>\n",
       "      <td>跌</td>\n",
       "      <td>0.0</td>\n",
       "      <td>各報 要聞 台股 漲像</td>\n",
       "    </tr>\n",
       "    <tr>\n",
       "      <td>2</td>\n",
       "      <td>2016-01-01 11:46:00</td>\n",
       "      <td>台積電ADR31日下跌0.13美元跌幅0.57%折台股150.45元</td>\n",
       "      <td>(中央社台北2016年 1月 1日電)台積電在NYSE掛牌 ADR以 22.75美元作收，下...</td>\n",
       "      <td>跌</td>\n",
       "      <td>0.0</td>\n",
       "      <td>台積電 下跌 美元 跌幅 折 台股 元</td>\n",
       "    </tr>\n",
       "    <tr>\n",
       "      <td>3</td>\n",
       "      <td>2016-01-02 11:12:00</td>\n",
       "      <td>iPhone新4吋 傳7大特色先睹為快</td>\n",
       "      <td>（中央社記者鍾榮峰台北2016年1月2日電）蘋果(Apple)新4吋iPhone萬眾矚目，各...</td>\n",
       "      <td>跌</td>\n",
       "      <td>0.0</td>\n",
       "      <td>新 吋 傳大 特色 先睹為快</td>\n",
       "    </tr>\n",
       "    <tr>\n",
       "      <td>4</td>\n",
       "      <td>2016-01-03 08:59:00</td>\n",
       "      <td>《各報要聞》外資歸隊，台股帶量拚季線</td>\n",
       "      <td>台股上周封關日集中及櫃買兩市場同步收紅，本周為105年元月首周，市場聚焦新掛牌股、外資歸隊、...</td>\n",
       "      <td>跌</td>\n",
       "      <td>0.0</td>\n",
       "      <td>各報 要聞 外資 歸隊 台股 帶量 拚 季線</td>\n",
       "    </tr>\n",
       "  </tbody>\n",
       "</table>\n",
       "</div>"
      ],
      "text/plain": [
       "            post_time                               title  \\\n",
       "0 2016-01-01 09:05:00      工商頭條~4大基金封關加碼30億 2016年台股漲像NIKE   \n",
       "1 2016-01-01 09:27:00                 《各報要聞》2016年台股漲像NIKE   \n",
       "2 2016-01-01 11:46:00  台積電ADR31日下跌0.13美元跌幅0.57%折台股150.45元   \n",
       "3 2016-01-02 11:12:00                 iPhone新4吋 傳7大特色先睹為快   \n",
       "4 2016-01-03 08:59:00                  《各報要聞》外資歸隊，台股帶量拚季線   \n",
       "\n",
       "                                             content label  num_label  \\\n",
       "0  2015年台股昨（31）日封關，四大基金在尾盤大舉加碼買進台積電、國泰金等權值股，總計投入約...     跌        0.0   \n",
       "1  2015年台股昨（31）日封關，四大基金在尾盤大舉加碼買進台積電、國泰金等權值股，總計投入約...     跌        0.0   \n",
       "2  (中央社台北2016年 1月 1日電)台積電在NYSE掛牌 ADR以 22.75美元作收，下...     跌        0.0   \n",
       "3  （中央社記者鍾榮峰台北2016年1月2日電）蘋果(Apple)新4吋iPhone萬眾矚目，各...     跌        0.0   \n",
       "4  台股上周封關日集中及櫃買兩市場同步收紅，本周為105年元月首周，市場聚焦新掛牌股、外資歸隊、...     跌        0.0   \n",
       "\n",
       "                cutcontent  \n",
       "0  工商 頭條 基金 封關 加碼 億年 台股 漲像  \n",
       "1              各報 要聞 台股 漲像  \n",
       "2      台積電 下跌 美元 跌幅 折 台股 元  \n",
       "3           新 吋 傳大 特色 先睹為快  \n",
       "4   各報 要聞 外資 歸隊 台股 帶量 拚 季線  "
      ]
     },
     "execution_count": 50,
     "metadata": {},
     "output_type": "execute_result"
    }
   ],
   "source": [
    "jieba.set_dictionary('bda2019_dataset/dict.idkrsi.txt')\n",
    "corpus = list()\n",
    "for num in range(len(tnews)):\n",
    "    content=tnews.loc[num,'title']\n",
    "    content = re.sub('[a-zA-Z0-9\\W]', '', content)\n",
    "    seglist=jieba.cut(content.replace('\\n','').replace('，',' '),cut_all=False)\n",
    "    seglist = list(filter(lambda a: a not in stopwords and a != '\\n', seglist))\n",
    "    cutcontent=' '.join(seglist)\n",
    "    corpus.append(cutcontent)\n",
    "tnews[\"cutcontent\"]=corpus\n",
    "tnews.head()"
   ]
  },
  {
   "cell_type": "markdown",
   "metadata": {},
   "source": [
    "## 對文章做day instacne (同一天的文章同一個label)(一天超過7篇文章會換下一個label)"
   ]
  },
  {
   "cell_type": "code",
   "execution_count": 51,
   "metadata": {},
   "outputs": [
    {
     "data": {
      "text/html": [
       "<div>\n",
       "<style scoped>\n",
       "    .dataframe tbody tr th:only-of-type {\n",
       "        vertical-align: middle;\n",
       "    }\n",
       "\n",
       "    .dataframe tbody tr th {\n",
       "        vertical-align: top;\n",
       "    }\n",
       "\n",
       "    .dataframe thead th {\n",
       "        text-align: right;\n",
       "    }\n",
       "</style>\n",
       "<table border=\"1\" class=\"dataframe\">\n",
       "  <thead>\n",
       "    <tr style=\"text-align: right;\">\n",
       "      <th></th>\n",
       "      <th>post_time</th>\n",
       "      <th>title</th>\n",
       "      <th>content</th>\n",
       "      <th>label</th>\n",
       "      <th>num_label</th>\n",
       "      <th>cutcontent</th>\n",
       "      <th>day_instance</th>\n",
       "    </tr>\n",
       "  </thead>\n",
       "  <tbody>\n",
       "    <tr>\n",
       "      <td>0</td>\n",
       "      <td>2016-01-01 09:05:00</td>\n",
       "      <td>工商頭條~4大基金封關加碼30億 2016年台股漲像NIKE</td>\n",
       "      <td>2015年台股昨（31）日封關，四大基金在尾盤大舉加碼買進台積電、國泰金等權值股，總計投入約...</td>\n",
       "      <td>跌</td>\n",
       "      <td>0.0</td>\n",
       "      <td>工商 頭條 基金 封關 加碼 億年 台股 漲像</td>\n",
       "      <td>0.0</td>\n",
       "    </tr>\n",
       "    <tr>\n",
       "      <td>1</td>\n",
       "      <td>2016-01-01 09:27:00</td>\n",
       "      <td>《各報要聞》2016年台股漲像NIKE</td>\n",
       "      <td>2015年台股昨（31）日封關，四大基金在尾盤大舉加碼買進台積電、國泰金等權值股，總計投入約...</td>\n",
       "      <td>跌</td>\n",
       "      <td>0.0</td>\n",
       "      <td>各報 要聞 台股 漲像</td>\n",
       "      <td>0.0</td>\n",
       "    </tr>\n",
       "    <tr>\n",
       "      <td>2</td>\n",
       "      <td>2016-01-01 11:46:00</td>\n",
       "      <td>台積電ADR31日下跌0.13美元跌幅0.57%折台股150.45元</td>\n",
       "      <td>(中央社台北2016年 1月 1日電)台積電在NYSE掛牌 ADR以 22.75美元作收，下...</td>\n",
       "      <td>跌</td>\n",
       "      <td>0.0</td>\n",
       "      <td>台積電 下跌 美元 跌幅 折 台股 元</td>\n",
       "      <td>0.0</td>\n",
       "    </tr>\n",
       "    <tr>\n",
       "      <td>3</td>\n",
       "      <td>2016-01-02 11:12:00</td>\n",
       "      <td>iPhone新4吋 傳7大特色先睹為快</td>\n",
       "      <td>（中央社記者鍾榮峰台北2016年1月2日電）蘋果(Apple)新4吋iPhone萬眾矚目，各...</td>\n",
       "      <td>跌</td>\n",
       "      <td>0.0</td>\n",
       "      <td>新 吋 傳大 特色 先睹為快</td>\n",
       "      <td>1.0</td>\n",
       "    </tr>\n",
       "    <tr>\n",
       "      <td>4</td>\n",
       "      <td>2016-01-03 08:59:00</td>\n",
       "      <td>《各報要聞》外資歸隊，台股帶量拚季線</td>\n",
       "      <td>台股上周封關日集中及櫃買兩市場同步收紅，本周為105年元月首周，市場聚焦新掛牌股、外資歸隊、...</td>\n",
       "      <td>跌</td>\n",
       "      <td>0.0</td>\n",
       "      <td>各報 要聞 外資 歸隊 台股 帶量 拚 季線</td>\n",
       "      <td>2.0</td>\n",
       "    </tr>\n",
       "  </tbody>\n",
       "</table>\n",
       "</div>"
      ],
      "text/plain": [
       "            post_time                               title  \\\n",
       "0 2016-01-01 09:05:00      工商頭條~4大基金封關加碼30億 2016年台股漲像NIKE   \n",
       "1 2016-01-01 09:27:00                 《各報要聞》2016年台股漲像NIKE   \n",
       "2 2016-01-01 11:46:00  台積電ADR31日下跌0.13美元跌幅0.57%折台股150.45元   \n",
       "3 2016-01-02 11:12:00                 iPhone新4吋 傳7大特色先睹為快   \n",
       "4 2016-01-03 08:59:00                  《各報要聞》外資歸隊，台股帶量拚季線   \n",
       "\n",
       "                                             content label  num_label  \\\n",
       "0  2015年台股昨（31）日封關，四大基金在尾盤大舉加碼買進台積電、國泰金等權值股，總計投入約...     跌        0.0   \n",
       "1  2015年台股昨（31）日封關，四大基金在尾盤大舉加碼買進台積電、國泰金等權值股，總計投入約...     跌        0.0   \n",
       "2  (中央社台北2016年 1月 1日電)台積電在NYSE掛牌 ADR以 22.75美元作收，下...     跌        0.0   \n",
       "3  （中央社記者鍾榮峰台北2016年1月2日電）蘋果(Apple)新4吋iPhone萬眾矚目，各...     跌        0.0   \n",
       "4  台股上周封關日集中及櫃買兩市場同步收紅，本周為105年元月首周，市場聚焦新掛牌股、外資歸隊、...     跌        0.0   \n",
       "\n",
       "                cutcontent  day_instance  \n",
       "0  工商 頭條 基金 封關 加碼 億年 台股 漲像           0.0  \n",
       "1              各報 要聞 台股 漲像           0.0  \n",
       "2      台積電 下跌 美元 跌幅 折 台股 元           0.0  \n",
       "3           新 吋 傳大 特色 先睹為快           1.0  \n",
       "4   各報 要聞 外資 歸隊 台股 帶量 拚 季線           2.0  "
      ]
     },
     "execution_count": 51,
     "metadata": {},
     "output_type": "execute_result"
    }
   ],
   "source": [
    "tnews.loc[0,'day_instance'] = 0\n",
    "day_instance=0\n",
    "count=1\n",
    "article_count = list()  # day_instance數\n",
    "for day in range(1,len(tnews)):\n",
    "    if tnews.loc[day,'post_time'].date() == tnews.loc[day-1,'post_time'].date():  # 判斷是不是同一天\n",
    "        if count<7:                                          # 如果一天文章超過7篇，每7篇一個day_instance\n",
    "            tnews.loc[day,'day_instance'] = day_instance\n",
    "            count+=1\n",
    "        else:\n",
    "            article_count.append(count)                      # 超過7篇重新設一個day_instance\n",
    "            count=1\n",
    "            day_instance+=1\n",
    "            tnews.loc[day,'day_instance'] = day_instance\n",
    "    else:\n",
    "        article_count.append(count)                          # 日期不一樣就重設一個day_instance\n",
    "        count=1\n",
    "        day_instance+=1\n",
    "        tnews.loc[day,'day_instance'] = day_instance\n",
    "article_count.append(count)                                  # 把最後一天的day_instance加進來\n",
    "tnews.head()"
   ]
  },
  {
   "cell_type": "code",
   "execution_count": 52,
   "metadata": {},
   "outputs": [
    {
     "name": "stdout",
     "output_type": "stream",
     "text": [
      "總共文章天數:2840\n",
      "總共大於4篇文章day_instance:2352\n"
     ]
    }
   ],
   "source": [
    "# 算一天大於4篇文章的天數\n",
    "article_over = 0\n",
    "delete_day = list()   #小於預定天數的day_instance 的 index\n",
    "for i in range(len(article_count)):\n",
    "    if article_count[i]>=4:\n",
    "        article_over+=1\n",
    "    else:\n",
    "        delete_day.append(i)\n",
    "print('總共文章天數:%d' % len(article_count))\n",
    "print('總共大於4篇文章day_instance:%d' % article_over)"
   ]
  },
  {
   "cell_type": "code",
   "execution_count": 53,
   "metadata": {},
   "outputs": [],
   "source": [
    "# 把一天文章小於4篇的刪掉\n",
    "tnews['day_instance'] = tnews['day_instance'].astype(int)\n",
    "for i in range(len(tnews)):\n",
    "    if tnews.loc[i,'day_instance'] in delete_day:\n",
    "        tnews = tnews.drop([i])\n",
    "tnews = tnews.reset_index(drop=True)"
   ]
  },
  {
   "cell_type": "code",
   "execution_count": 54,
   "metadata": {},
   "outputs": [
    {
     "data": {
      "text/html": [
       "<div>\n",
       "<style scoped>\n",
       "    .dataframe tbody tr th:only-of-type {\n",
       "        vertical-align: middle;\n",
       "    }\n",
       "\n",
       "    .dataframe tbody tr th {\n",
       "        vertical-align: top;\n",
       "    }\n",
       "\n",
       "    .dataframe thead th {\n",
       "        text-align: right;\n",
       "    }\n",
       "</style>\n",
       "<table border=\"1\" class=\"dataframe\">\n",
       "  <thead>\n",
       "    <tr style=\"text-align: right;\">\n",
       "      <th></th>\n",
       "      <th>post_time</th>\n",
       "      <th>title</th>\n",
       "      <th>content</th>\n",
       "      <th>label</th>\n",
       "      <th>num_label</th>\n",
       "      <th>cutcontent</th>\n",
       "      <th>day_instance</th>\n",
       "    </tr>\n",
       "  </thead>\n",
       "  <tbody>\n",
       "    <tr>\n",
       "      <td>0</td>\n",
       "      <td>2016-01-04 07:24:00</td>\n",
       "      <td>經濟頭條~台積16奈米 完勝三星</td>\n",
       "      <td>半導體設備商透露，三星近期已通知設備相關協力廠，暫緩邏輯晶片廠擴建腳步，主因三星考量旗下14...</td>\n",
       "      <td>跌</td>\n",
       "      <td>0.0</td>\n",
       "      <td>經濟 頭條 台積 奈米 完勝 三星</td>\n",
       "      <td>3</td>\n",
       "    </tr>\n",
       "    <tr>\n",
       "      <td>1</td>\n",
       "      <td>2016-01-04 07:24:00</td>\n",
       "      <td>工商頭條~千億科技預算 張善政喊加碼</td>\n",
       "      <td>行政院周五（8日）將召開毛內閣任內最後一次科技會報，會中將向張忠謀等外部委員報告106年度科...</td>\n",
       "      <td>跌</td>\n",
       "      <td>0.0</td>\n",
       "      <td>工商 頭條 千億 科技 預算 張善政 喊 加碼</td>\n",
       "      <td>3</td>\n",
       "    </tr>\n",
       "    <tr>\n",
       "      <td>2</td>\n",
       "      <td>2016-01-04 07:34:00</td>\n",
       "      <td>《半導體》i7捎單有影，台積電營運逐季旺</td>\n",
       "      <td>蘋果新一代智慧型手機iPhone 7將在今年下半年登場，根據外電消息，蘋果自行設計的A10應...</td>\n",
       "      <td>跌</td>\n",
       "      <td>0.0</td>\n",
       "      <td>半導體 捎 單 有影 台積電 營運 逐季旺</td>\n",
       "      <td>3</td>\n",
       "    </tr>\n",
       "    <tr>\n",
       "      <td>3</td>\n",
       "      <td>2016-01-04 07:37:00</td>\n",
       "      <td>《各報要聞》千億科技預算，張善政喊加碼</td>\n",
       "      <td>行政院周五（8日）將召開毛內閣任內最後一次科技會報，會中將向張忠謀等外部委員報告106年度科...</td>\n",
       "      <td>跌</td>\n",
       "      <td>0.0</td>\n",
       "      <td>各報 要聞 千億 科技 預算 張善政 喊 加碼</td>\n",
       "      <td>3</td>\n",
       "    </tr>\n",
       "    <tr>\n",
       "      <td>4</td>\n",
       "      <td>2016-01-04 07:56:00</td>\n",
       "      <td>工商時報晨訊</td>\n",
       "      <td>◆千億科技預算，張善政喊加碼，主計總處初步匡列1,061億、年增3%，可能再調高。&lt;BR&gt; ...</td>\n",
       "      <td>跌</td>\n",
       "      <td>0.0</td>\n",
       "      <td>工商時報 晨訊</td>\n",
       "      <td>3</td>\n",
       "    </tr>\n",
       "    <tr>\n",
       "      <td>5</td>\n",
       "      <td>2016-01-04 07:56:00</td>\n",
       "      <td>經濟日報晨訊</td>\n",
       "      <td>◆台積電16奈米，完勝三星，製程強壓對手的14奈米，蘋果A10代工大單可望入袋，三星暫緩擴廠...</td>\n",
       "      <td>跌</td>\n",
       "      <td>0.0</td>\n",
       "      <td>經濟日報 晨訊</td>\n",
       "      <td>3</td>\n",
       "    </tr>\n",
       "    <tr>\n",
       "      <td>6</td>\n",
       "      <td>2016-01-04 08:00:00</td>\n",
       "      <td>經濟日報頭條：台積16奈米，完勝三星</td>\n",
       "      <td>半導體設備商透露，三星近期已通知設備相關協力廠，暫緩邏輯晶片廠擴建腳步，主因三星考量旗下14...</td>\n",
       "      <td>跌</td>\n",
       "      <td>0.0</td>\n",
       "      <td>經濟日報 頭條 台積 奈米 完勝 三星</td>\n",
       "      <td>3</td>\n",
       "    </tr>\n",
       "    <tr>\n",
       "      <td>7</td>\n",
       "      <td>2016-01-04 08:01:00</td>\n",
       "      <td>工商時報頭條：千億科技預算，張善政喊加碼</td>\n",
       "      <td>行政院週五(8日)將召開毛內閣任內最後一次科技會報，會中將向張忠謀等外部委員報告106年度科...</td>\n",
       "      <td>跌</td>\n",
       "      <td>0.0</td>\n",
       "      <td>工商時報 頭條 千億 科技 預算 張善政 喊 加碼</td>\n",
       "      <td>4</td>\n",
       "    </tr>\n",
       "    <tr>\n",
       "      <td>8</td>\n",
       "      <td>2016-01-04 08:01:00</td>\n",
       "      <td>工商證券頭條：i7捎單有影，台積電營運逐季旺</td>\n",
       "      <td>蘋果新一代智慧型手機iPhone 7將在2016年下半年登場，根據外電消息，蘋果自行設計的A...</td>\n",
       "      <td>跌</td>\n",
       "      <td>0.0</td>\n",
       "      <td>工商 證券 頭條 捎 單 有影 台積電 營運 逐季旺</td>\n",
       "      <td>4</td>\n",
       "    </tr>\n",
       "    <tr>\n",
       "      <td>9</td>\n",
       "      <td>2016-01-04 08:24:00</td>\n",
       "      <td>【Y早報】台積16奈米完勝三星</td>\n",
       "      <td>開盤日9:00出刊&lt;BR&gt;美股連2跌，道瓊合計下跌295點&lt;BR&gt;台股面臨補跌，國泰金重登金...</td>\n",
       "      <td>跌</td>\n",
       "      <td>0.0</td>\n",
       "      <td>早報 台積 奈米 完勝 三星</td>\n",
       "      <td>4</td>\n",
       "    </tr>\n",
       "    <tr>\n",
       "      <td>10</td>\n",
       "      <td>2016-01-04 08:29:00</td>\n",
       "      <td>《今日焦點新聞》台積16奈米，完勝三星</td>\n",
       "      <td>時報-今日焦點新聞&lt;BR&gt; 國內頭條：&lt;BR&gt; 1.千億科技預算，張善政喊加碼。(工商時報)...</td>\n",
       "      <td>跌</td>\n",
       "      <td>0.0</td>\n",
       "      <td>今日 焦點 新聞 台積 奈米 完勝 三星</td>\n",
       "      <td>4</td>\n",
       "    </tr>\n",
       "    <tr>\n",
       "      <td>11</td>\n",
       "      <td>2016-01-04 08:47:00</td>\n",
       "      <td>統一證券：台股後市仍有可為</td>\n",
       "      <td>：雖然前一日歐美股市下挫，但上週四台股僅小跌6點以8273點開出；由於元旦長假在即，加上外資...</td>\n",
       "      <td>跌</td>\n",
       "      <td>0.0</td>\n",
       "      <td>統一 證券 台股 後市 仍有 可為</td>\n",
       "      <td>4</td>\n",
       "    </tr>\n",
       "    <tr>\n",
       "      <td>12</td>\n",
       "      <td>2016-01-04 11:34:00</td>\n",
       "      <td>《盤中解析》紅盤日變臉，台股狂洩逾200點</td>\n",
       "      <td>2016年開紅盤日，台股狂洩逾200點！儘管2015年最後一個交易日拉尾盤，守住8300點，...</td>\n",
       "      <td>跌</td>\n",
       "      <td>0.0</td>\n",
       "      <td>盤中 解析 紅盤 變臉 台股 狂洩 逾點</td>\n",
       "      <td>4</td>\n",
       "    </tr>\n",
       "    <tr>\n",
       "      <td>13</td>\n",
       "      <td>2016-01-04 13:44:00</td>\n",
       "      <td>新年紅盤慘跌 台股重挫223.80點</td>\n",
       "      <td>（中央社台北2016年1月4日電）台股新年紅盤指數開低走低，跌破8200點關卡；終場指數以8...</td>\n",
       "      <td>跌</td>\n",
       "      <td>0.0</td>\n",
       "      <td>新年 紅盤 慘跌 台股 重挫</td>\n",
       "      <td>4</td>\n",
       "    </tr>\n",
       "    <tr>\n",
       "      <td>14</td>\n",
       "      <td>2016-01-04 14:45:00</td>\n",
       "      <td>《盤後解析》陸股「熔斷」， 台股重挫險守8100點</td>\n",
       "      <td>2016年紅盤日亞股倒光光，台股勉強守住8100點！大陸經濟數據不佳，人民幣續貶，且沙烏地阿...</td>\n",
       "      <td>跌</td>\n",
       "      <td>0.0</td>\n",
       "      <td>盤 解析 陸股 熔斷 台股 重挫 險守</td>\n",
       "      <td>5</td>\n",
       "    </tr>\n",
       "    <tr>\n",
       "      <td>15</td>\n",
       "      <td>2016-01-04 14:55:00</td>\n",
       "      <td>台股盤後－國際股市倒 台灣50僅華亞科收紅 指數重挫223點</td>\n",
       "      <td>歐美股市在2015年最後一個交易日呈現大跌，2016年第一個交易日亞股跟跌，台股受到衝擊，指...</td>\n",
       "      <td>跌</td>\n",
       "      <td>0.0</td>\n",
       "      <td>台股盤 國際 股市 倒 台灣 僅 華亞科 收紅 指數 重挫</td>\n",
       "      <td>5</td>\n",
       "    </tr>\n",
       "    <tr>\n",
       "      <td>16</td>\n",
       "      <td>2016-01-04 15:09:00</td>\n",
       "      <td>《集中市場》亞股皮皮剉，三大法人同步賣超173.6億元</td>\n",
       "      <td>美股2015年封關日重挫，沙烏地阿拉伯宣布與伊朗斷交，中東情勢烏雲密布，今日亞股哀鴻遍野，台...</td>\n",
       "      <td>跌</td>\n",
       "      <td>0.0</td>\n",
       "      <td>集中 市場 亞股 皮皮 剉 三大 法人 同步 賣超 億元</td>\n",
       "      <td>5</td>\n",
       "    </tr>\n",
       "    <tr>\n",
       "      <td>17</td>\n",
       "      <td>2016-01-04 19:30:00</td>\n",
       "      <td>台股紅盤日慘綠 外資大砍139億 台積電首當其衝</td>\n",
       "      <td>歐美股市大跌，2016年第一個交易日亞股也全面跟跌，台股指數開低走低，權值股則是重災區，台灣...</td>\n",
       "      <td>跌</td>\n",
       "      <td>0.0</td>\n",
       "      <td>台股 紅盤 慘綠 外資 大砍 億 台積電 首當其衝</td>\n",
       "      <td>5</td>\n",
       "    </tr>\n",
       "    <tr>\n",
       "      <td>18</td>\n",
       "      <td>2016-01-05 07:48:00</td>\n",
       "      <td>《金融》曾銘宗：金融業去年獲利可望再創高</td>\n",
       "      <td>金管會昨（4）日舉辦新春記者會，主委曾銘宗表示，若加計銀行針對中國曝險及不動產的增提準備，2...</td>\n",
       "      <td>跌</td>\n",
       "      <td>0.0</td>\n",
       "      <td>金融 銘宗 金融業 去年 獲利 可望 創高</td>\n",
       "      <td>6</td>\n",
       "    </tr>\n",
       "    <tr>\n",
       "      <td>19</td>\n",
       "      <td>2016-01-05 08:00:00</td>\n",
       "      <td>經濟日報晨訊</td>\n",
       "      <td>◆2016首個交易日，人民幣重貶，全球股大跌。&lt;BR&gt; ◆六都上月移轉棟數，倍增，房地合一稅...</td>\n",
       "      <td>跌</td>\n",
       "      <td>0.0</td>\n",
       "      <td>經濟日報 晨訊</td>\n",
       "      <td>6</td>\n",
       "    </tr>\n",
       "  </tbody>\n",
       "</table>\n",
       "</div>"
      ],
      "text/plain": [
       "             post_time                           title  \\\n",
       "0  2016-01-04 07:24:00                經濟頭條~台積16奈米 完勝三星   \n",
       "1  2016-01-04 07:24:00              工商頭條~千億科技預算 張善政喊加碼   \n",
       "2  2016-01-04 07:34:00            《半導體》i7捎單有影，台積電營運逐季旺   \n",
       "3  2016-01-04 07:37:00             《各報要聞》千億科技預算，張善政喊加碼   \n",
       "4  2016-01-04 07:56:00                          工商時報晨訊   \n",
       "5  2016-01-04 07:56:00                          經濟日報晨訊   \n",
       "6  2016-01-04 08:00:00              經濟日報頭條：台積16奈米，完勝三星   \n",
       "7  2016-01-04 08:01:00            工商時報頭條：千億科技預算，張善政喊加碼   \n",
       "8  2016-01-04 08:01:00          工商證券頭條：i7捎單有影，台積電營運逐季旺   \n",
       "9  2016-01-04 08:24:00                 【Y早報】台積16奈米完勝三星   \n",
       "10 2016-01-04 08:29:00             《今日焦點新聞》台積16奈米，完勝三星   \n",
       "11 2016-01-04 08:47:00                   統一證券：台股後市仍有可為   \n",
       "12 2016-01-04 11:34:00           《盤中解析》紅盤日變臉，台股狂洩逾200點   \n",
       "13 2016-01-04 13:44:00              新年紅盤慘跌 台股重挫223.80點   \n",
       "14 2016-01-04 14:45:00       《盤後解析》陸股「熔斷」， 台股重挫險守8100點   \n",
       "15 2016-01-04 14:55:00  台股盤後－國際股市倒 台灣50僅華亞科收紅 指數重挫223點   \n",
       "16 2016-01-04 15:09:00     《集中市場》亞股皮皮剉，三大法人同步賣超173.6億元   \n",
       "17 2016-01-04 19:30:00        台股紅盤日慘綠 外資大砍139億 台積電首當其衝   \n",
       "18 2016-01-05 07:48:00            《金融》曾銘宗：金融業去年獲利可望再創高   \n",
       "19 2016-01-05 08:00:00                          經濟日報晨訊   \n",
       "\n",
       "                                              content label  num_label  \\\n",
       "0   半導體設備商透露，三星近期已通知設備相關協力廠，暫緩邏輯晶片廠擴建腳步，主因三星考量旗下14...     跌        0.0   \n",
       "1   行政院周五（8日）將召開毛內閣任內最後一次科技會報，會中將向張忠謀等外部委員報告106年度科...     跌        0.0   \n",
       "2   蘋果新一代智慧型手機iPhone 7將在今年下半年登場，根據外電消息，蘋果自行設計的A10應...     跌        0.0   \n",
       "3   行政院周五（8日）將召開毛內閣任內最後一次科技會報，會中將向張忠謀等外部委員報告106年度科...     跌        0.0   \n",
       "4   ◆千億科技預算，張善政喊加碼，主計總處初步匡列1,061億、年增3%，可能再調高。<BR> ...     跌        0.0   \n",
       "5   ◆台積電16奈米，完勝三星，製程強壓對手的14奈米，蘋果A10代工大單可望入袋，三星暫緩擴廠...     跌        0.0   \n",
       "6   半導體設備商透露，三星近期已通知設備相關協力廠，暫緩邏輯晶片廠擴建腳步，主因三星考量旗下14...     跌        0.0   \n",
       "7   行政院週五(8日)將召開毛內閣任內最後一次科技會報，會中將向張忠謀等外部委員報告106年度科...     跌        0.0   \n",
       "8   蘋果新一代智慧型手機iPhone 7將在2016年下半年登場，根據外電消息，蘋果自行設計的A...     跌        0.0   \n",
       "9   開盤日9:00出刊<BR>美股連2跌，道瓊合計下跌295點<BR>台股面臨補跌，國泰金重登金...     跌        0.0   \n",
       "10  時報-今日焦點新聞<BR> 國內頭條：<BR> 1.千億科技預算，張善政喊加碼。(工商時報)...     跌        0.0   \n",
       "11  ：雖然前一日歐美股市下挫，但上週四台股僅小跌6點以8273點開出；由於元旦長假在即，加上外資...     跌        0.0   \n",
       "12  2016年開紅盤日，台股狂洩逾200點！儘管2015年最後一個交易日拉尾盤，守住8300點，...     跌        0.0   \n",
       "13  （中央社台北2016年1月4日電）台股新年紅盤指數開低走低，跌破8200點關卡；終場指數以8...     跌        0.0   \n",
       "14  2016年紅盤日亞股倒光光，台股勉強守住8100點！大陸經濟數據不佳，人民幣續貶，且沙烏地阿...     跌        0.0   \n",
       "15  歐美股市在2015年最後一個交易日呈現大跌，2016年第一個交易日亞股跟跌，台股受到衝擊，指...     跌        0.0   \n",
       "16  美股2015年封關日重挫，沙烏地阿拉伯宣布與伊朗斷交，中東情勢烏雲密布，今日亞股哀鴻遍野，台...     跌        0.0   \n",
       "17  歐美股市大跌，2016年第一個交易日亞股也全面跟跌，台股指數開低走低，權值股則是重災區，台灣...     跌        0.0   \n",
       "18  金管會昨（4）日舉辦新春記者會，主委曾銘宗表示，若加計銀行針對中國曝險及不動產的增提準備，2...     跌        0.0   \n",
       "19  ◆2016首個交易日，人民幣重貶，全球股大跌。<BR> ◆六都上月移轉棟數，倍增，房地合一稅...     跌        0.0   \n",
       "\n",
       "                       cutcontent  day_instance  \n",
       "0               經濟 頭條 台積 奈米 完勝 三星             3  \n",
       "1         工商 頭條 千億 科技 預算 張善政 喊 加碼             3  \n",
       "2           半導體 捎 單 有影 台積電 營運 逐季旺             3  \n",
       "3         各報 要聞 千億 科技 預算 張善政 喊 加碼             3  \n",
       "4                         工商時報 晨訊             3  \n",
       "5                         經濟日報 晨訊             3  \n",
       "6             經濟日報 頭條 台積 奈米 完勝 三星             3  \n",
       "7       工商時報 頭條 千億 科技 預算 張善政 喊 加碼             4  \n",
       "8      工商 證券 頭條 捎 單 有影 台積電 營運 逐季旺             4  \n",
       "9                  早報 台積 奈米 完勝 三星             4  \n",
       "10           今日 焦點 新聞 台積 奈米 完勝 三星             4  \n",
       "11              統一 證券 台股 後市 仍有 可為             4  \n",
       "12           盤中 解析 紅盤 變臉 台股 狂洩 逾點             4  \n",
       "13                 新年 紅盤 慘跌 台股 重挫             4  \n",
       "14            盤 解析 陸股 熔斷 台股 重挫 險守             5  \n",
       "15  台股盤 國際 股市 倒 台灣 僅 華亞科 收紅 指數 重挫             5  \n",
       "16   集中 市場 亞股 皮皮 剉 三大 法人 同步 賣超 億元             5  \n",
       "17      台股 紅盤 慘綠 外資 大砍 億 台積電 首當其衝             5  \n",
       "18          金融 銘宗 金融業 去年 獲利 可望 創高             6  \n",
       "19                        經濟日報 晨訊             6  "
      ]
     },
     "execution_count": 54,
     "metadata": {},
     "output_type": "execute_result"
    }
   ],
   "source": [
    "tnews.head(20)"
   ]
  },
  {
   "cell_type": "code",
   "execution_count": 55,
   "metadata": {},
   "outputs": [
    {
     "name": "stdout",
     "output_type": "stream",
     "text": [
      "篩選過後的文章 15796\n"
     ]
    }
   ],
   "source": [
    "print('篩選過後的文章 %d' % len(tnews))"
   ]
  },
  {
   "cell_type": "markdown",
   "metadata": {},
   "source": [
    "## 對文字encoding"
   ]
  },
  {
   "cell_type": "code",
   "execution_count": 56,
   "metadata": {},
   "outputs": [],
   "source": [
    "from sklearn import metrics\n",
    "from sklearn.preprocessing import LabelEncoder,OneHotEncoder\n",
    "from keras.preprocessing.text import Tokenizer"
   ]
  },
  {
   "cell_type": "code",
   "execution_count": 57,
   "metadata": {},
   "outputs": [],
   "source": [
    "X = tnews['cutcontent'].to_numpy()\n",
    "# Y = tnews['num_label'].to_numpy()\n",
    "\n",
    "# le = LabelEncoder()\n",
    "# Y = le.fit_transform(Y).reshape(-1,1)"
   ]
  },
  {
   "cell_type": "code",
   "execution_count": 58,
   "metadata": {},
   "outputs": [],
   "source": [
    "# 對 Y 做lable，[1,0]是跌，[0,1]是漲\n",
    "# ohe = OneHotEncoder()\n",
    "# Y_label = ohe.fit_transform(Y).toarray()\n",
    "# Y_label"
   ]
  },
  {
   "cell_type": "code",
   "execution_count": 59,
   "metadata": {},
   "outputs": [
    {
     "name": "stdout",
     "output_type": "stream",
     "text": [
      "('台股', 1)\n",
      "('台股盤', 2)\n",
      "('台積電', 3)\n",
      "('外資', 4)\n",
      "('盤', 5)\n",
      "('解析', 6)\n",
      "('市場', 7)\n",
      "('中', 8)\n",
      "('期貨', 9)\n",
      "('晨訊', 10)\n",
      "=============================\n",
      "('經濟', 125)\n",
      "('頭條', 303)\n",
      "('台積', 451)\n",
      "('奈米', 245)\n",
      "('完勝', 9)\n",
      "('三星', 100)\n",
      "('工商', 53)\n",
      "('千億', 30)\n",
      "('科技', 136)\n",
      "('預算', 16)\n",
      "Found 10270 unique tokens.\n"
     ]
    }
   ],
   "source": [
    "max_words = 50000\n",
    "tok = Tokenizer(num_words = max_words)\n",
    "tok.fit_on_texts(tnews['cutcontent'])\n",
    "\n",
    "for i, iterm in enumerate(tok.word_index.items()):\n",
    "    if i < 10:\n",
    "        print(iterm)\n",
    "    else:\n",
    "        break\n",
    "print(\"=============================\")\n",
    "for i, iterm in enumerate(tok.word_counts.items()):\n",
    "    if i < 10:\n",
    "        print(iterm)\n",
    "    else:\n",
    "        break\n",
    "word_index = tok.word_index\n",
    "print('Found %s unique tokens.' % len(word_index))\n",
    "# word_index就是根據cutcontent內容彙整出來的切字跟代表那個字的token number (每個字的dict)"
   ]
  },
  {
   "cell_type": "code",
   "execution_count": 60,
   "metadata": {},
   "outputs": [
    {
     "data": {
      "text/plain": [
       "[171, 75, 44, 105, 1396, 208]"
      ]
     },
     "execution_count": 60,
     "metadata": {},
     "output_type": "execute_result"
    }
   ],
   "source": [
    "# # 每篇文章title斷詞變成編碼的樣子\n",
    "X_seq = tok.texts_to_sequences(X)\n",
    "X_seq[0]"
   ]
  },
  {
   "cell_type": "markdown",
   "metadata": {},
   "source": [
    "## Embedding layer設置"
   ]
  },
  {
   "cell_type": "code",
   "execution_count": 61,
   "metadata": {},
   "outputs": [
    {
     "name": "stderr",
     "output_type": "stream",
     "text": [
      "2000001it [01:49, 18346.84it/s]"
     ]
    },
    {
     "name": "stdout",
     "output_type": "stream",
     "text": [
      "Found 2000000 word vectors.\n"
     ]
    },
    {
     "name": "stderr",
     "output_type": "stream",
     "text": [
      "\n"
     ]
    }
   ],
   "source": [
    "import os\n",
    "import sys\n",
    "\n",
    "embeddings_index = {}\n",
    "f = open('bda2019_dataset/cc.zh.300.vec', 'r', encoding='utf-8')\n",
    "for line in tqdm(f):\n",
    "    values = line.split()\n",
    "    word = values[0]\n",
    "    coefs = np.asarray(values[1:], dtype='float32')\n",
    "    embeddings_index[word] = coefs\n",
    "f.close()\n",
    "\n",
    "print('Found %s word vectors.' % len(embeddings_index))"
   ]
  },
  {
   "cell_type": "markdown",
   "metadata": {},
   "source": [
    "## 此時，我們可以根據得到的字典生成上文所定義的詞向量矩陣"
   ]
  },
  {
   "cell_type": "code",
   "execution_count": 62,
   "metadata": {},
   "outputs": [
    {
     "name": "stdout",
     "output_type": "stream",
     "text": [
      "(10271, 300)\n",
      "[[ 0.          0.          0.         ...  0.          0.\n",
      "   0.        ]\n",
      " [-0.0152      0.15899999  0.2421     ...  0.16689999  0.38710001\n",
      "  -0.20720001]\n",
      " [ 0.          0.          0.         ...  0.          0.\n",
      "   0.        ]\n",
      " ...\n",
      " [ 0.0209     -0.0256      0.38909999 ... -0.0069     -0.0683\n",
      "   0.13339999]\n",
      " [ 0.0429      0.072       0.40540001 ... -0.1552     -0.0955\n",
      "  -0.0058    ]\n",
      " [ 0.          0.          0.         ...  0.          0.\n",
      "   0.        ]]\n"
     ]
    }
   ],
   "source": [
    "EMBEDDING_DIM = 300\n",
    "embedding_matrix = np.zeros((len(word_index)+1, EMBEDDING_DIM))       #預設一個全部都是0的matrix\n",
    "for word, i in word_index.items():                                    #dict的index從1開始\n",
    "    embedding_vector = embeddings_index.get(word)\n",
    "    if embedding_vector is not None:\n",
    "        # words not found in embedding index will be all-zeros.\n",
    "        embedding_matrix[i] = embedding_vector         #將找到的embedding vector丟到他位置的matrix, 如果找不到一樣維持0\n",
    "print(embedding_matrix.shape)\n",
    "print(embedding_matrix)\n",
    "# embedding_matrix就是把word_index裡面的每個字所代表word embedding對應變成一個matrix (每個字的word embedding)"
   ]
  },
  {
   "cell_type": "code",
   "execution_count": 63,
   "metadata": {},
   "outputs": [],
   "source": [
    "# embedding_matrix[322]          #隨機抽查一個看看有沒有存進去"
   ]
  },
  {
   "cell_type": "markdown",
   "metadata": {},
   "source": [
    "## 將每一篇文章每個字embedding加起來，並將每篇文章串起來"
   ]
  },
  {
   "cell_type": "code",
   "execution_count": 64,
   "metadata": {},
   "outputs": [
    {
     "data": {
      "text/html": [
       "<div>\n",
       "<style scoped>\n",
       "    .dataframe tbody tr th:only-of-type {\n",
       "        vertical-align: middle;\n",
       "    }\n",
       "\n",
       "    .dataframe tbody tr th {\n",
       "        vertical-align: top;\n",
       "    }\n",
       "\n",
       "    .dataframe thead th {\n",
       "        text-align: right;\n",
       "    }\n",
       "</style>\n",
       "<table border=\"1\" class=\"dataframe\">\n",
       "  <thead>\n",
       "    <tr style=\"text-align: right;\">\n",
       "      <th></th>\n",
       "      <th>post_time</th>\n",
       "      <th>title</th>\n",
       "      <th>content</th>\n",
       "      <th>label</th>\n",
       "      <th>num_label</th>\n",
       "      <th>cutcontent</th>\n",
       "      <th>day_instance</th>\n",
       "      <th>title_embedding</th>\n",
       "    </tr>\n",
       "  </thead>\n",
       "  <tbody>\n",
       "    <tr>\n",
       "      <td>0</td>\n",
       "      <td>2016-01-04 07:24:00</td>\n",
       "      <td>經濟頭條~台積16奈米 完勝三星</td>\n",
       "      <td>半導體設備商透露，三星近期已通知設備相關協力廠，暫緩邏輯晶片廠擴建腳步，主因三星考量旗下14...</td>\n",
       "      <td>跌</td>\n",
       "      <td>0.0</td>\n",
       "      <td>經濟 頭條 台積 奈米 完勝 三星</td>\n",
       "      <td>3</td>\n",
       "      <td>NA</td>\n",
       "    </tr>\n",
       "    <tr>\n",
       "      <td>1</td>\n",
       "      <td>2016-01-04 07:24:00</td>\n",
       "      <td>工商頭條~千億科技預算 張善政喊加碼</td>\n",
       "      <td>行政院周五（8日）將召開毛內閣任內最後一次科技會報，會中將向張忠謀等外部委員報告106年度科...</td>\n",
       "      <td>跌</td>\n",
       "      <td>0.0</td>\n",
       "      <td>工商 頭條 千億 科技 預算 張善政 喊 加碼</td>\n",
       "      <td>3</td>\n",
       "      <td>NA</td>\n",
       "    </tr>\n",
       "    <tr>\n",
       "      <td>2</td>\n",
       "      <td>2016-01-04 07:34:00</td>\n",
       "      <td>《半導體》i7捎單有影，台積電營運逐季旺</td>\n",
       "      <td>蘋果新一代智慧型手機iPhone 7將在今年下半年登場，根據外電消息，蘋果自行設計的A10應...</td>\n",
       "      <td>跌</td>\n",
       "      <td>0.0</td>\n",
       "      <td>半導體 捎 單 有影 台積電 營運 逐季旺</td>\n",
       "      <td>3</td>\n",
       "      <td>NA</td>\n",
       "    </tr>\n",
       "    <tr>\n",
       "      <td>3</td>\n",
       "      <td>2016-01-04 07:37:00</td>\n",
       "      <td>《各報要聞》千億科技預算，張善政喊加碼</td>\n",
       "      <td>行政院周五（8日）將召開毛內閣任內最後一次科技會報，會中將向張忠謀等外部委員報告106年度科...</td>\n",
       "      <td>跌</td>\n",
       "      <td>0.0</td>\n",
       "      <td>各報 要聞 千億 科技 預算 張善政 喊 加碼</td>\n",
       "      <td>3</td>\n",
       "      <td>NA</td>\n",
       "    </tr>\n",
       "    <tr>\n",
       "      <td>4</td>\n",
       "      <td>2016-01-04 07:56:00</td>\n",
       "      <td>工商時報晨訊</td>\n",
       "      <td>◆千億科技預算，張善政喊加碼，主計總處初步匡列1,061億、年增3%，可能再調高。&lt;BR&gt; ...</td>\n",
       "      <td>跌</td>\n",
       "      <td>0.0</td>\n",
       "      <td>工商時報 晨訊</td>\n",
       "      <td>3</td>\n",
       "      <td>NA</td>\n",
       "    </tr>\n",
       "  </tbody>\n",
       "</table>\n",
       "</div>"
      ],
      "text/plain": [
       "            post_time                 title  \\\n",
       "0 2016-01-04 07:24:00      經濟頭條~台積16奈米 完勝三星   \n",
       "1 2016-01-04 07:24:00    工商頭條~千億科技預算 張善政喊加碼   \n",
       "2 2016-01-04 07:34:00  《半導體》i7捎單有影，台積電營運逐季旺   \n",
       "3 2016-01-04 07:37:00   《各報要聞》千億科技預算，張善政喊加碼   \n",
       "4 2016-01-04 07:56:00                工商時報晨訊   \n",
       "\n",
       "                                             content label  num_label  \\\n",
       "0  半導體設備商透露，三星近期已通知設備相關協力廠，暫緩邏輯晶片廠擴建腳步，主因三星考量旗下14...     跌        0.0   \n",
       "1  行政院周五（8日）將召開毛內閣任內最後一次科技會報，會中將向張忠謀等外部委員報告106年度科...     跌        0.0   \n",
       "2  蘋果新一代智慧型手機iPhone 7將在今年下半年登場，根據外電消息，蘋果自行設計的A10應...     跌        0.0   \n",
       "3  行政院周五（8日）將召開毛內閣任內最後一次科技會報，會中將向張忠謀等外部委員報告106年度科...     跌        0.0   \n",
       "4  ◆千億科技預算，張善政喊加碼，主計總處初步匡列1,061億、年增3%，可能再調高。<BR> ...     跌        0.0   \n",
       "\n",
       "                cutcontent  day_instance title_embedding  \n",
       "0        經濟 頭條 台積 奈米 完勝 三星             3              NA  \n",
       "1  工商 頭條 千億 科技 預算 張善政 喊 加碼             3              NA  \n",
       "2    半導體 捎 單 有影 台積電 營運 逐季旺             3              NA  \n",
       "3  各報 要聞 千億 科技 預算 張善政 喊 加碼             3              NA  \n",
       "4                  工商時報 晨訊             3              NA  "
      ]
     },
     "execution_count": 64,
     "metadata": {},
     "output_type": "execute_result"
    }
   ],
   "source": [
    "tnews['title_embedding'] = 'NA'      #先設一個空值的column\n",
    "tnews.head()"
   ]
  },
  {
   "cell_type": "code",
   "execution_count": null,
   "metadata": {},
   "outputs": [],
   "source": [
    "title_numpy = np.zeros((300))\n",
    "# all_title_numpy = np.zeros((1,300)) #先創造一個沒屁用的numpy array，方便串\n",
    "for i in range(len(X_seq)):\n",
    "    for j in range(len(X_seq[i])):\n",
    "        target_token = X_seq[i][j]\n",
    "        target_embedding = embedding_matrix[target_token]                    # 找到目標字的word embedding\n",
    "        title_numpy = title_numpy + np.array(target_embedding)               # title_numpy = np.add(title_numpy, target_embedding)\n",
    "    tnews['title_embedding'][i]= title_numpy"
   ]
  },
  {
   "cell_type": "code",
   "execution_count": null,
   "metadata": {},
   "outputs": [],
   "source": [
    "tnews.head()"
   ]
  },
  {
   "cell_type": "code",
   "execution_count": null,
   "metadata": {},
   "outputs": [],
   "source": [
    "# tnews.loc[300,'title_embedding']       # 抽查看有沒有放進dataframe"
   ]
  },
  {
   "cell_type": "code",
   "execution_count": null,
   "metadata": {},
   "outputs": [],
   "source": [
    "# 把同一天instacne變成一個二維的矩陣\n",
    "title_set = list()\n",
    "y_set = list()\n",
    "title_2d = np.zeros((7,300))\n",
    "dayinst_count=0                                                          # 用來判斷要放在(7,300)的哪一個位置的count\n",
    "for i in range(len(tnews)):\n",
    "    if i ==0:                                                            # 先判斷是不是第一筆資料 \n",
    "        title_2d[0] = tnews.loc[i,'title_embedding']\n",
    "        dayinst_count+=1\n",
    "    else:                                                                # 如果這筆資料跟前一筆的day_instance一樣\n",
    "        if tnews.loc[i,'day_instance'] == tnews.loc[i-1,'day_instance']: # 那就把它存到同一個二維矩陣\n",
    "            title_2d[dayinst_count] = tnews.loc[i,'title_embedding']\n",
    "            dayinst_count+=1\n",
    "        else:                                                            # 如果這筆資料跟前一筆的day_instance不一樣\n",
    "            title_set.append(title_2d)                                   # 先封存前一筆day_instance建立好的矩陣\n",
    "            y_set.append(tnews.loc[i-1,'num_label'])                     # 封存 Y label\n",
    "            title_2d = np.zeros((7,300))                                 # 重創一個(7,300)的全0矩陣\n",
    "            dayinst_count = 0                                            # 重設dayinst count\n",
    "            title_2d[dayinst_count] = tnews.loc[i,'title_embedding']     # 把它存到同一個二維矩陣\n",
    "            dayinst_count+=1\n",
    "title_set.append(title_2d)                                               # 把最後一筆二維矩陣封存\n",
    "y_set.append(tnews.loc[len(tnews)-1,'num_label'])                        # 把最後一筆 Y label封存\n",
    "y_set = np.array(y_set)\n",
    "title_set = np.array(title_set)                                          # list轉numpy\n",
    "print('X筆數',len(title_set))\n",
    "print('Y筆數',len(y_set))\n",
    "print(title_set.shape)"
   ]
  },
  {
   "cell_type": "code",
   "execution_count": null,
   "metadata": {},
   "outputs": [],
   "source": [
    "# 把tilte_set reshape\n",
    "title_set = title_set.reshape((2352, 7, 300, 1))\n",
    "title_set.shape"
   ]
  },
  {
   "cell_type": "code",
   "execution_count": null,
   "metadata": {},
   "outputs": [],
   "source": [
    "up = 0\n",
    "down = 0\n",
    "for i in y_set:\n",
    "    if i == 0.0:\n",
    "        down+=1\n",
    "    else:\n",
    "        up+=1\n",
    "print('漲的訓練資料筆數: %d' % up)\n",
    "print('跌的訓練資料筆數: %d' % down)"
   ]
  },
  {
   "cell_type": "code",
   "execution_count": null,
   "metadata": {},
   "outputs": [],
   "source": [
    "print(type(title_set),type(y_set))"
   ]
  },
  {
   "cell_type": "code",
   "execution_count": null,
   "metadata": {},
   "outputs": [],
   "source": [
    "# [1,0]是跌，[0,1]是漲\n",
    "le = LabelEncoder()\n",
    "y_set = le.fit_transform(y_set).reshape(-1,1)\n",
    "ohe = OneHotEncoder()\n",
    "Y_label = ohe.fit_transform(y_set).toarray()\n",
    "Y_label"
   ]
  },
  {
   "cell_type": "code",
   "execution_count": null,
   "metadata": {},
   "outputs": [],
   "source": [
    "Y_label.shape"
   ]
  },
  {
   "cell_type": "code",
   "execution_count": null,
   "metadata": {},
   "outputs": [],
   "source": [
    "# 切資料\n",
    "from sklearn import model_selection\n",
    "validation_size = 0.2\n",
    "seed = 7\n",
    "X_train, X_validation, Y_train, Y_validation = model_selection.train_test_split(\n",
    "    title_set, Y_label, test_size=validation_size, random_state=seed)\n",
    "\n",
    "print(X_train.shape)\n",
    "print(Y_train.shape)\n",
    "print(X_validation.shape)\n",
    "print(Y_validation.shape)"
   ]
  },
  {
   "cell_type": "markdown",
   "metadata": {},
   "source": [
    "## Model (兩個Model都可以，第一個model優點是可以把維度拉出再做處理)"
   ]
  },
  {
   "cell_type": "code",
   "execution_count": null,
   "metadata": {},
   "outputs": [],
   "source": [
    "from keras.models import Model, Sequential\n",
    "from keras.layers import LSTM, Activation, Dense, Dropout, Input, Embedding, SpatialDropout1D, Flatten \n",
    "from keras.layers import Conv1D, Conv2D, MaxPooling1D, MaxPooling2D, TimeDistributed, InputLayer\n",
    "from keras.optimizers import RMSprop, adam\n",
    "from keras.preprocessing import sequence\n",
    "from keras.callbacks import EarlyStopping"
   ]
  },
  {
   "cell_type": "code",
   "execution_count": null,
   "metadata": {},
   "outputs": [],
   "source": [
    "visible = Input(shape=(7,300,1))\n",
    "conv1 = TimeDistributed(Conv1D(5, kernel_size=150, padding='same', activation='relu'))(visible)\n",
    "pool1 = TimeDistributed(MaxPooling1D(pool_size=2))(conv1)\n",
    "flat = TimeDistributed(Flatten())(pool1)\n",
    "lstm1 = LSTM(256, dropout=0.2, return_sequences=True)(flat)\n",
    "lstm2 = LSTM(128, dropout=0.2)(lstm1)\n",
    "hidden1 = Dense(64, activation='relu')(lstm2)\n",
    "hidden2 = Dropout(0.2)\n",
    "output = Dense(2, activation='softmax')(hidden1)\n",
    "model1 = Model(inputs=visible, outputs=output)\n",
    "model1.compile(loss='categorical_crossentropy', optimizer='RMSprop', metrics=['accuracy'])\n",
    "print(model1.summary())"
   ]
  },
  {
   "cell_type": "code",
   "execution_count": null,
   "metadata": {},
   "outputs": [],
   "source": [
    "model = Sequential()\n",
    "model.add(TimeDistributed(Conv1D(filters=5,\n",
    "                                 kernel_size=3,\n",
    "                                 padding='same',\n",
    "                                 activation='relu'), input_shape=(7,300,1)))\n",
    "model.add(TimeDistributed(MaxPooling1D(pool_size=2)))\n",
    "model.add(TimeDistributed(Flatten()))\n",
    "model.add(LSTM(128, dropout=0.2))\n",
    "model.add(Dense(64, activation='relu', name='dense1'))\n",
    "model.add(Dropout(0.2))\n",
    "model.add(Dense(2, activation='softmax', name='dense2'))\n",
    "model.compile(loss='categorical_crossentropy', optimizer='RMSprop', metrics=['accuracy'])\n",
    "model.summary()"
   ]
  },
  {
   "cell_type": "code",
   "execution_count": null,
   "metadata": {},
   "outputs": [],
   "source": [
    "model_fit = model1.fit(X_train,Y_train,batch_size=32,epochs=20,\n",
    "                      validation_data=(X_validation, Y_validation))\n",
    "\n",
    "\n",
    "\n",
    "\n",
    "# train_history=model.fit(x=title_set, \n",
    "#                         y=Y_label,validation_split=0.2, \n",
    "#                         epochs=10, batch_size=32,verbose=1)"
   ]
  },
  {
   "cell_type": "code",
   "execution_count": null,
   "metadata": {},
   "outputs": [],
   "source": []
  }
 ],
 "metadata": {
  "kernelspec": {
   "display_name": "Python 3",
   "language": "python",
   "name": "python3"
  },
  "language_info": {
   "codemirror_mode": {
    "name": "ipython",
    "version": 3
   },
   "file_extension": ".py",
   "mimetype": "text/x-python",
   "name": "python",
   "nbconvert_exporter": "python",
   "pygments_lexer": "ipython3",
   "version": "3.7.4"
  }
 },
 "nbformat": 4,
 "nbformat_minor": 4
}
