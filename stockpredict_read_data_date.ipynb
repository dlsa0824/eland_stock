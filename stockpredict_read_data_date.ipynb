{
 "cells": [
  {
   "cell_type": "markdown",
   "metadata": {},
   "source": [
    "## 讀取選定文章，2016/1-2018/6當作訓練資料集，2018/7~2018/12當作測試資料集，去預測"
   ]
  },
  {
   "cell_type": "code",
   "execution_count": 1,
   "metadata": {},
   "outputs": [],
   "source": [
    "import csv\n",
    "import pandas as pd\n",
    "import numpy as np\n",
    "import jieba\n",
    "import jieba.analyse"
   ]
  },
  {
   "cell_type": "code",
   "execution_count": 2,
   "metadata": {},
   "outputs": [
    {
     "data": {
      "text/html": [
       "<div>\n",
       "<style scoped>\n",
       "    .dataframe tbody tr th:only-of-type {\n",
       "        vertical-align: middle;\n",
       "    }\n",
       "\n",
       "    .dataframe tbody tr th {\n",
       "        vertical-align: top;\n",
       "    }\n",
       "\n",
       "    .dataframe thead th {\n",
       "        text-align: right;\n",
       "    }\n",
       "</style>\n",
       "<table border=\"1\" class=\"dataframe\">\n",
       "  <thead>\n",
       "    <tr style=\"text-align: right;\">\n",
       "      <th></th>\n",
       "      <th>證券代碼</th>\n",
       "      <th>年月日</th>\n",
       "      <th>開盤價(元)</th>\n",
       "      <th>最高價(元)</th>\n",
       "      <th>最低價(元)</th>\n",
       "      <th>收盤價(元)</th>\n",
       "      <th>成交量(千股)</th>\n",
       "      <th>成交值(千元)</th>\n",
       "      <th>成交筆數(筆)</th>\n",
       "      <th>流通在外股數(千股)</th>\n",
       "      <th>本益比-TSE</th>\n",
       "      <th>股價淨值比-TSE</th>\n",
       "      <th>highpriceshift</th>\n",
       "      <th>rate</th>\n",
       "      <th>label</th>\n",
       "    </tr>\n",
       "  </thead>\n",
       "  <tbody>\n",
       "    <tr>\n",
       "      <th>0</th>\n",
       "      <td>2454 聯發科</td>\n",
       "      <td>2018-12-25</td>\n",
       "      <td>221.0</td>\n",
       "      <td>222.0</td>\n",
       "      <td>219.0</td>\n",
       "      <td>221.0</td>\n",
       "      <td>1,528</td>\n",
       "      <td>337,471</td>\n",
       "      <td>1,229</td>\n",
       "      <td>1,591,506</td>\n",
       "      <td>12.90</td>\n",
       "      <td>1.29</td>\n",
       "      <td>220.0</td>\n",
       "      <td>-0.004525</td>\n",
       "      <td>平</td>\n",
       "    </tr>\n",
       "    <tr>\n",
       "      <th>1</th>\n",
       "      <td>2454 聯發科</td>\n",
       "      <td>2018-12-24</td>\n",
       "      <td>223.5</td>\n",
       "      <td>225.5</td>\n",
       "      <td>222.5</td>\n",
       "      <td>225.0</td>\n",
       "      <td>1,674</td>\n",
       "      <td>375,607</td>\n",
       "      <td>1,173</td>\n",
       "      <td>1,591,506</td>\n",
       "      <td>13.13</td>\n",
       "      <td>1.32</td>\n",
       "      <td>221.0</td>\n",
       "      <td>-0.017778</td>\n",
       "      <td>跌</td>\n",
       "    </tr>\n",
       "    <tr>\n",
       "      <th>2</th>\n",
       "      <td>2454 聯發科</td>\n",
       "      <td>2018-12-22</td>\n",
       "      <td>223.0</td>\n",
       "      <td>223.5</td>\n",
       "      <td>221.5</td>\n",
       "      <td>223.0</td>\n",
       "      <td>923</td>\n",
       "      <td>205,274</td>\n",
       "      <td>860</td>\n",
       "      <td>1,591,506</td>\n",
       "      <td>13.02</td>\n",
       "      <td>1.31</td>\n",
       "      <td>225.0</td>\n",
       "      <td>0.008969</td>\n",
       "      <td>平</td>\n",
       "    </tr>\n",
       "    <tr>\n",
       "      <th>3</th>\n",
       "      <td>2454 聯發科</td>\n",
       "      <td>2018-12-21</td>\n",
       "      <td>224.0</td>\n",
       "      <td>226.0</td>\n",
       "      <td>221.5</td>\n",
       "      <td>223.5</td>\n",
       "      <td>5,269</td>\n",
       "      <td>1,177,829</td>\n",
       "      <td>2,560</td>\n",
       "      <td>1,591,506</td>\n",
       "      <td>13.05</td>\n",
       "      <td>1.31</td>\n",
       "      <td>223.0</td>\n",
       "      <td>-0.002237</td>\n",
       "      <td>平</td>\n",
       "    </tr>\n",
       "    <tr>\n",
       "      <th>4</th>\n",
       "      <td>2454 聯發科</td>\n",
       "      <td>2018-12-20</td>\n",
       "      <td>229.5</td>\n",
       "      <td>231.0</td>\n",
       "      <td>223.5</td>\n",
       "      <td>225.0</td>\n",
       "      <td>9,042</td>\n",
       "      <td>2,049,881</td>\n",
       "      <td>5,840</td>\n",
       "      <td>1,591,506</td>\n",
       "      <td>13.13</td>\n",
       "      <td>1.32</td>\n",
       "      <td>223.5</td>\n",
       "      <td>-0.006667</td>\n",
       "      <td>平</td>\n",
       "    </tr>\n",
       "  </tbody>\n",
       "</table>\n",
       "</div>"
      ],
      "text/plain": [
       "       證券代碼         年月日  開盤價(元)  最高價(元)  最低價(元)  收盤價(元) 成交量(千股)    成交值(千元)  \\\n",
       "0  2454 聯發科  2018-12-25   221.0   222.0   219.0   221.0   1,528    337,471   \n",
       "1  2454 聯發科  2018-12-24   223.5   225.5   222.5   225.0   1,674    375,607   \n",
       "2  2454 聯發科  2018-12-22   223.0   223.5   221.5   223.0     923    205,274   \n",
       "3  2454 聯發科  2018-12-21   224.0   226.0   221.5   223.5   5,269  1,177,829   \n",
       "4  2454 聯發科  2018-12-20   229.5   231.0   223.5   225.0   9,042  2,049,881   \n",
       "\n",
       "  成交筆數(筆) 流通在外股數(千股)  本益比-TSE  股價淨值比-TSE  highpriceshift      rate label  \n",
       "0   1,229  1,591,506    12.90       1.29           220.0 -0.004525     平  \n",
       "1   1,173  1,591,506    13.13       1.32           221.0 -0.017778     跌  \n",
       "2     860  1,591,506    13.02       1.31           225.0  0.008969     平  \n",
       "3   2,560  1,591,506    13.05       1.31           223.0 -0.002237     平  \n",
       "4   5,840  1,591,506    13.13       1.32           223.5 -0.006667     平  "
      ]
     },
     "execution_count": 2,
     "metadata": {},
     "output_type": "execute_result"
    }
   ],
   "source": [
    "df_tgg=pd.read_csv(\"bda2019_dataset/MTK_stock.csv\", encoding=\"utf-8\")\n",
    "df_tgg=df_tgg.drop(columns=['Unnamed: 0'])\n",
    "df_tgg.head(5)"
   ]
  },
  {
   "cell_type": "code",
   "execution_count": 8,
   "metadata": {},
   "outputs": [
    {
     "data": {
      "text/html": [
       "<div>\n",
       "<style scoped>\n",
       "    .dataframe tbody tr th:only-of-type {\n",
       "        vertical-align: middle;\n",
       "    }\n",
       "\n",
       "    .dataframe tbody tr th {\n",
       "        vertical-align: top;\n",
       "    }\n",
       "\n",
       "    .dataframe thead th {\n",
       "        text-align: right;\n",
       "    }\n",
       "</style>\n",
       "<table border=\"1\" class=\"dataframe\">\n",
       "  <thead>\n",
       "    <tr style=\"text-align: right;\">\n",
       "      <th></th>\n",
       "      <th>id</th>\n",
       "      <th>p_type</th>\n",
       "      <th>s_name</th>\n",
       "      <th>s_area_name</th>\n",
       "      <th>post_time</th>\n",
       "      <th>title</th>\n",
       "      <th>author</th>\n",
       "      <th>content</th>\n",
       "      <th>page_url</th>\n",
       "      <th>label</th>\n",
       "      <th>cutcontent</th>\n",
       "    </tr>\n",
       "  </thead>\n",
       "  <tbody>\n",
       "    <tr>\n",
       "      <th>0</th>\n",
       "      <td>1451783510043_N01</td>\n",
       "      <td>news</td>\n",
       "      <td>yahoo股市</td>\n",
       "      <td>重大要聞</td>\n",
       "      <td>2016-01-03 08:58:00</td>\n",
       "      <td>《各報要聞》30檔電子股，去年可賺1股本</td>\n",
       "      <td>時報資訊</td>\n",
       "      <td>景氣不佳，電子業成了去年放無薪假的大戶，但在一片不景氣聲中，還是有科技公司逆流而上，初估20...</td>\n",
       "      <td>https://tw.stock.yahoo.com/news_content/url/d/...</td>\n",
       "      <td>跌</td>\n",
       "      <td>景氣 不佳   電子業 成 了 去年 放無薪假 的 大戶   但 在 一片 不景氣 聲中  ...</td>\n",
       "    </tr>\n",
       "    <tr>\n",
       "      <th>1</th>\n",
       "      <td>1451874408573_N01</td>\n",
       "      <td>news</td>\n",
       "      <td>yahoo股市</td>\n",
       "      <td>重大要聞</td>\n",
       "      <td>2016-01-04 09:59:00</td>\n",
       "      <td>台股開紅盤重摔 CES概念撐腰 IC設計鈺創、凌通、迅杰大漲撐盤</td>\n",
       "      <td>鉅亨網</td>\n",
       "      <td>台股今(4)日2016年第一個交易日，開盤不久指數就面臨賣壓襲擊，摜破8200點與月線支撐，...</td>\n",
       "      <td>https://tw.stock.yahoo.com/news_content/url/d/...</td>\n",
       "      <td>跌</td>\n",
       "      <td>台股 今 ( 4 ) 日 2016 年 第一個 交易日   開盤 不久 指數 就 面臨 賣壓...</td>\n",
       "    </tr>\n",
       "    <tr>\n",
       "      <th>2</th>\n",
       "      <td>1451952709026_N01</td>\n",
       "      <td>news</td>\n",
       "      <td>yahoo股市</td>\n",
       "      <td>重大要聞</td>\n",
       "      <td>2016-01-05 07:48:00</td>\n",
       "      <td>《金融》曾銘宗：金融業去年獲利可望再創高</td>\n",
       "      <td>時報資訊</td>\n",
       "      <td>金管會昨（4）日舉辦新春記者會，主委曾銘宗表示，若加計銀行針對中國曝險及不動產的增提準備，2...</td>\n",
       "      <td>https://tw.stock.yahoo.com/news_content/url/d/...</td>\n",
       "      <td>跌</td>\n",
       "      <td>金管會 昨 （ 4 ） 日 舉辦 新春 記者會   主委 曾 銘宗 表示   若 加計 銀行...</td>\n",
       "    </tr>\n",
       "    <tr>\n",
       "      <th>3</th>\n",
       "      <td>1451968008054_N01</td>\n",
       "      <td>news</td>\n",
       "      <td>yahoo股市</td>\n",
       "      <td>重大要聞</td>\n",
       "      <td>2016-01-05 12:05:00</td>\n",
       "      <td>台股盤中－TRF風暴 止穩之路遭金融股扯後腿 8100苦戰</td>\n",
       "      <td>鉅亨網</td>\n",
       "      <td>美股昨天重挫但留下200多點下影線，台股今(5)日開低，最低摔到8072點，一度跌破8100...</td>\n",
       "      <td>https://tw.stock.yahoo.com/news_content/url/d/...</td>\n",
       "      <td>跌</td>\n",
       "      <td>美股 昨天 重挫 但 留下 200 多點 下影線   台股 今 ( 5 ) 日 開低   最...</td>\n",
       "    </tr>\n",
       "    <tr>\n",
       "      <th>4</th>\n",
       "      <td>1451978807822_N01</td>\n",
       "      <td>news</td>\n",
       "      <td>yahoo股市</td>\n",
       "      <td>重大要聞</td>\n",
       "      <td>2016-01-05 15:07:00</td>\n",
       "      <td>【Y晚報】沙伊交惡！油價只是死貓跳 專家唱衰剩1字頭</td>\n",
       "      <td>Yahoo奇摩股市</td>\n",
       "      <td>美股道瓊昨天連續第三天下挫，收盤大跌276點，不過尾盤拉高收斂跌幅，留下191點的下影線，因...</td>\n",
       "      <td>https://tw.stock.yahoo.com/news_content/url/d/...</td>\n",
       "      <td>跌</td>\n",
       "      <td>美股 道瓊 昨天 連續 第三天 下挫   收盤 大跌 276 點   不過 尾盤 拉高 收斂...</td>\n",
       "    </tr>\n",
       "  </tbody>\n",
       "</table>\n",
       "</div>"
      ],
      "text/plain": [
       "                  id p_type   s_name s_area_name           post_time  \\\n",
       "0  1451783510043_N01   news  yahoo股市        重大要聞 2016-01-03 08:58:00   \n",
       "1  1451874408573_N01   news  yahoo股市        重大要聞 2016-01-04 09:59:00   \n",
       "2  1451952709026_N01   news  yahoo股市        重大要聞 2016-01-05 07:48:00   \n",
       "3  1451968008054_N01   news  yahoo股市        重大要聞 2016-01-05 12:05:00   \n",
       "4  1451978807822_N01   news  yahoo股市        重大要聞 2016-01-05 15:07:00   \n",
       "\n",
       "                              title     author  \\\n",
       "0              《各報要聞》30檔電子股，去年可賺1股本       時報資訊   \n",
       "1  台股開紅盤重摔 CES概念撐腰 IC設計鈺創、凌通、迅杰大漲撐盤        鉅亨網   \n",
       "2              《金融》曾銘宗：金融業去年獲利可望再創高       時報資訊   \n",
       "3     台股盤中－TRF風暴 止穩之路遭金融股扯後腿 8100苦戰        鉅亨網   \n",
       "4        【Y晚報】沙伊交惡！油價只是死貓跳 專家唱衰剩1字頭  Yahoo奇摩股市   \n",
       "\n",
       "                                             content  \\\n",
       "0  景氣不佳，電子業成了去年放無薪假的大戶，但在一片不景氣聲中，還是有科技公司逆流而上，初估20...   \n",
       "1  台股今(4)日2016年第一個交易日，開盤不久指數就面臨賣壓襲擊，摜破8200點與月線支撐，...   \n",
       "2  金管會昨（4）日舉辦新春記者會，主委曾銘宗表示，若加計銀行針對中國曝險及不動產的增提準備，2...   \n",
       "3  美股昨天重挫但留下200多點下影線，台股今(5)日開低，最低摔到8072點，一度跌破8100...   \n",
       "4  美股道瓊昨天連續第三天下挫，收盤大跌276點，不過尾盤拉高收斂跌幅，留下191點的下影線，因...   \n",
       "\n",
       "                                            page_url label  \\\n",
       "0  https://tw.stock.yahoo.com/news_content/url/d/...     跌   \n",
       "1  https://tw.stock.yahoo.com/news_content/url/d/...     跌   \n",
       "2  https://tw.stock.yahoo.com/news_content/url/d/...     跌   \n",
       "3  https://tw.stock.yahoo.com/news_content/url/d/...     跌   \n",
       "4  https://tw.stock.yahoo.com/news_content/url/d/...     跌   \n",
       "\n",
       "                                          cutcontent  \n",
       "0  景氣 不佳   電子業 成 了 去年 放無薪假 的 大戶   但 在 一片 不景氣 聲中  ...  \n",
       "1  台股 今 ( 4 ) 日 2016 年 第一個 交易日   開盤 不久 指數 就 面臨 賣壓...  \n",
       "2  金管會 昨 （ 4 ） 日 舉辦 新春 記者會   主委 曾 銘宗 表示   若 加計 銀行...  \n",
       "3  美股 昨天 重挫 但 留下 200 多點 下影線   台股 今 ( 5 ) 日 開低   最...  \n",
       "4  美股 道瓊 昨天 連續 第三天 下挫   收盤 大跌 276 點   不過 尾盤 拉高 收斂...  "
      ]
     },
     "execution_count": 8,
     "metadata": {},
     "output_type": "execute_result"
    }
   ],
   "source": [
    "tnews=pd.read_csv(\"bda2019_dataset/MTK_content.csv\", encoding=\"utf-8\")\n",
    "tnews=tnews.drop(columns=['Unnamed: 0'])\n",
    "tnews['post_time']=pd.to_datetime(tnews['post_time'])  #把日期轉成datefime格式\n",
    "tnews.head(5)"
   ]
  },
  {
   "cell_type": "code",
   "execution_count": 9,
   "metadata": {},
   "outputs": [],
   "source": [
    "#取前多少個keyword\n",
    "keywords=list()\n",
    "with open('bda2019_dataset/companykeyword3000.txt', 'r',encoding='utf-8') as data:\n",
    "    for keyword in data:\n",
    "        keywords.append(keyword.strip('\\n'))\n",
    "keywords=keywords[:1500]"
   ]
  },
  {
   "cell_type": "code",
   "execution_count": 11,
   "metadata": {},
   "outputs": [
    {
     "name": "stdout",
     "output_type": "stream",
     "text": [
      "3402 1733\n"
     ]
    }
   ],
   "source": [
    "#把2018-7-1以前的資料設為train\n",
    "#把2018-7-1以後的資料設為test\n",
    "tnews_train=tnews[(tnews['post_time']>='2016-1-1 00:00:00') & (tnews['post_time']<'2018-7-1 00:00:00')]\n",
    "tnews_test=tnews[tnews['post_time']>='2018-7-1 00:00:00']\n",
    "print(len(tnews_train),len(tnews_test))"
   ]
  },
  {
   "cell_type": "code",
   "execution_count": 12,
   "metadata": {},
   "outputs": [
    {
     "name": "stdout",
     "output_type": "stream",
     "text": [
      "3402 1017 869 1516\n"
     ]
    }
   ],
   "source": [
    "#train的資料比例\n",
    "tnews1=tnews_train[tnews_train['label'].str.contains('漲')]\n",
    "tnews2=tnews_train[tnews_train['label'].str.contains('跌')]\n",
    "tnews3=tnews_train[tnews_train['label'].str.contains('平')]\n",
    "print(len(tnews_train),len(tnews1),len(tnews2),len(tnews3))"
   ]
  },
  {
   "cell_type": "code",
   "execution_count": 13,
   "metadata": {},
   "outputs": [
    {
     "name": "stdout",
     "output_type": "stream",
     "text": [
      "1733 576 530 627\n"
     ]
    }
   ],
   "source": [
    "#test資料比例\n",
    "tnews1=tnews_test[tnews_test['label'].str.contains('漲')]\n",
    "tnews2=tnews_test[tnews_test['label'].str.contains('跌')]\n",
    "tnews3=tnews_test[tnews_test['label'].str.contains('平')]\n",
    "print(len(tnews_test),len(tnews1),len(tnews2),len(tnews3))"
   ]
  },
  {
   "cell_type": "markdown",
   "metadata": {},
   "source": [
    "#  train資料處理"
   ]
  },
  {
   "cell_type": "code",
   "execution_count": 14,
   "metadata": {},
   "outputs": [],
   "source": [
    "from sklearn.feature_extraction.text import TfidfVectorizer\n",
    "\n",
    "cv=TfidfVectorizer(vocabulary=keywords) # 預設用只要有空格就一個欄位\n",
    "# cv=TfidfVectorizer(vocabulary=all0431) # 預設用只要有空格就一個欄位\n",
    "tfidf=pd.SparseDataFrame(cv.fit_transform(tnews_train['cutcontent']), \n",
    "                       tnews_train.index,\n",
    "                       cv.get_feature_names(), \n",
    "                       default_fill_value=0)\n",
    "tfidf.head(1)\n",
    "tfidf=tfidf.drop(columns=['聯發科'])"
   ]
  },
  {
   "cell_type": "code",
   "execution_count": 15,
   "metadata": {},
   "outputs": [
    {
     "data": {
      "text/plain": [
       "3402"
      ]
     },
     "execution_count": 15,
     "metadata": {},
     "output_type": "execute_result"
    }
   ],
   "source": [
    "tfidf['煞氣的label']=tnews_train['label']\n",
    "tfidf2=tfidf.drop(columns=['煞氣的label'])\n",
    "len(tfidf)"
   ]
  },
  {
   "cell_type": "code",
   "execution_count": 16,
   "metadata": {},
   "outputs": [],
   "source": [
    "from sklearn import model_selection\n",
    "X_train = tfidf2.to_numpy()\n",
    "Y_train = tfidf['煞氣的label'].to_numpy()"
   ]
  },
  {
   "cell_type": "markdown",
   "metadata": {},
   "source": [
    "#  test資料處理"
   ]
  },
  {
   "cell_type": "code",
   "execution_count": 17,
   "metadata": {},
   "outputs": [],
   "source": [
    "tfidf3=pd.SparseDataFrame(cv.fit_transform(tnews_test['cutcontent']), \n",
    "                       tnews_test.index,\n",
    "                       cv.get_feature_names(), \n",
    "                       default_fill_value=0)\n",
    "tfidf3=tfidf3.drop(columns=['聯發科'])"
   ]
  },
  {
   "cell_type": "code",
   "execution_count": 18,
   "metadata": {},
   "outputs": [
    {
     "data": {
      "text/plain": [
       "1733"
      ]
     },
     "execution_count": 18,
     "metadata": {},
     "output_type": "execute_result"
    }
   ],
   "source": [
    "tfidf3['煞氣的label']=tnews_test['label']\n",
    "tfidf4=tfidf3.drop(columns=['煞氣的label'])\n",
    "len(tfidf3)"
   ]
  },
  {
   "cell_type": "code",
   "execution_count": 19,
   "metadata": {},
   "outputs": [],
   "source": [
    "X_test=tfidf4.to_numpy()\n",
    "Y_test=tfidf3['煞氣的label'].to_numpy()"
   ]
  },
  {
   "cell_type": "code",
   "execution_count": 20,
   "metadata": {},
   "outputs": [],
   "source": [
    "from sklearn.metrics import accuracy_score\n",
    "from sklearn.metrics import confusion_matrix\n",
    "from sklearn.metrics import classification_report"
   ]
  },
  {
   "cell_type": "code",
   "execution_count": 21,
   "metadata": {},
   "outputs": [
    {
     "name": "stdout",
     "output_type": "stream",
     "text": [
      "0.6540270429159318\n",
      "0.3387189844200808\n",
      "[[400 195  32]\n",
      " [396 141  39]\n",
      " [345 139  46]]\n",
      "              precision    recall  f1-score   support\n",
      "\n",
      "           平       0.35      0.64      0.45       627\n",
      "           漲       0.30      0.24      0.27       576\n",
      "           跌       0.39      0.09      0.14       530\n",
      "\n",
      "   micro avg       0.34      0.34      0.34      1733\n",
      "   macro avg       0.35      0.32      0.29      1733\n",
      "weighted avg       0.35      0.34      0.30      1733\n",
      "\n"
     ]
    }
   ],
   "source": [
    "#SVM\n",
    "from sklearn.svm import SVC\n",
    "\n",
    "SVC_model = SVC(kernel='linear')\n",
    "SVC_model.fit(X_train,Y_train)\n",
    "predictions = SVC_model.predict(X_test)\n",
    "\n",
    "print(SVC_model.score(X_train,Y_train))\n",
    "print(accuracy_score(Y_test ,predictions))\n",
    "print(confusion_matrix(Y_test, predictions))\n",
    "print(classification_report(Y_test, predictions))"
   ]
  },
  {
   "cell_type": "code",
   "execution_count": 22,
   "metadata": {},
   "outputs": [
    {
     "name": "stdout",
     "output_type": "stream",
     "text": [
      "0.9920634920634921\n",
      "0.3150605885747259\n",
      "[[275 213 139]\n",
      " [275 170 131]\n",
      " [272 157 101]]\n",
      "              precision    recall  f1-score   support\n",
      "\n",
      "           平       0.33      0.44      0.38       627\n",
      "           漲       0.31      0.30      0.30       576\n",
      "           跌       0.27      0.19      0.22       530\n",
      "\n",
      "   micro avg       0.32      0.32      0.32      1733\n",
      "   macro avg       0.31      0.31      0.30      1733\n",
      "weighted avg       0.31      0.32      0.31      1733\n",
      "\n"
     ]
    }
   ],
   "source": [
    "#Decision tree\n",
    "from sklearn.tree import DecisionTreeClassifier\n",
    "\n",
    "decision_model = DecisionTreeClassifier()\n",
    "decision_model.fit(X_train,Y_train)\n",
    "predictions1 = decision_model.predict(X_test)\n",
    "\n",
    "print(decision_model.score(X_train, Y_train))\n",
    "print(accuracy_score(Y_test, predictions1))\n",
    "print(confusion_matrix(Y_test, predictions1))\n",
    "print(classification_report(Y_test, predictions1))"
   ]
  },
  {
   "cell_type": "code",
   "execution_count": 23,
   "metadata": {},
   "outputs": [
    {
     "name": "stderr",
     "output_type": "stream",
     "text": [
      "/home/daniel/anaconda3/lib/python3.6/site-packages/sklearn/ensemble/forest.py:246: FutureWarning: The default value of n_estimators will change from 10 in version 0.20 to 100 in 0.22.\n",
      "  \"10 in version 0.20 to 100 in 0.22.\", FutureWarning)\n"
     ]
    },
    {
     "name": "stdout",
     "output_type": "stream",
     "text": [
      "0.9779541446208113\n",
      "0.34160415464512406\n",
      "[[410 145  72]\n",
      " [399 127  50]\n",
      " [363 112  55]]\n",
      "              precision    recall  f1-score   support\n",
      "\n",
      "           平       0.35      0.65      0.46       627\n",
      "           漲       0.33      0.22      0.26       576\n",
      "           跌       0.31      0.10      0.16       530\n",
      "\n",
      "   micro avg       0.34      0.34      0.34      1733\n",
      "   macro avg       0.33      0.33      0.29      1733\n",
      "weighted avg       0.33      0.34      0.30      1733\n",
      "\n"
     ]
    }
   ],
   "source": [
    "#Random Forest\n",
    "from sklearn.ensemble import RandomForestClassifier\n",
    "# from sklearn.datasets import make_classification\n",
    "\n",
    "forest_model=RandomForestClassifier()\n",
    "forest_model.fit(X_train,Y_train)\n",
    "predictions2=forest_model.predict(X_test)\n",
    "\n",
    "print(forest_model.score(X_train,Y_train))\n",
    "print(accuracy_score(Y_test, predictions2))\n",
    "print(confusion_matrix(Y_test, predictions2))\n",
    "print(classification_report(Y_test, predictions2))"
   ]
  },
  {
   "cell_type": "code",
   "execution_count": 24,
   "metadata": {},
   "outputs": [
    {
     "name": "stdout",
     "output_type": "stream",
     "text": [
      "0.9888300999412111\n",
      "0.3190998268897865\n",
      "[[277 227 123]\n",
      " [266 183 127]\n",
      " [241 196  93]]\n",
      "              precision    recall  f1-score   support\n",
      "\n",
      "           平       0.35      0.44      0.39       627\n",
      "           漲       0.30      0.32      0.31       576\n",
      "           跌       0.27      0.18      0.21       530\n",
      "\n",
      "   micro avg       0.32      0.32      0.32      1733\n",
      "   macro avg       0.31      0.31      0.31      1733\n",
      "weighted avg       0.31      0.32      0.31      1733\n",
      "\n"
     ]
    },
    {
     "name": "stderr",
     "output_type": "stream",
     "text": [
      "/home/daniel/anaconda3/lib/python3.6/site-packages/sklearn/neural_network/multilayer_perceptron.py:562: ConvergenceWarning: Stochastic Optimizer: Maximum iterations (200) reached and the optimization hasn't converged yet.\n",
      "  % self.max_iter, ConvergenceWarning)\n"
     ]
    }
   ],
   "source": [
    "#MLP\n",
    "from sklearn.neural_network import MLPClassifier\n",
    "\n",
    "model_MLP = MLPClassifier(hidden_layer_sizes=(200,))\n",
    "model_MLP.fit(X_train, Y_train)\n",
    "print(model_MLP.score(X_train,Y_train))\n",
    "\n",
    "predictions = model_MLP.predict(X_test)\n",
    "print(accuracy_score(Y_test, predictions))\n",
    "print(confusion_matrix(Y_test, predictions))\n",
    "print(classification_report(Y_test, predictions))"
   ]
  },
  {
   "cell_type": "code",
   "execution_count": null,
   "metadata": {},
   "outputs": [],
   "source": []
  }
 ],
 "metadata": {
  "kernelspec": {
   "display_name": "Python 3",
   "language": "python",
   "name": "python3"
  },
  "language_info": {
   "codemirror_mode": {
    "name": "ipython",
    "version": 3
   },
   "file_extension": ".py",
   "mimetype": "text/x-python",
   "name": "python",
   "nbconvert_exporter": "python",
   "pygments_lexer": "ipython3",
   "version": "3.7.4"
  }
 },
 "nbformat": 4,
 "nbformat_minor": 4
}
